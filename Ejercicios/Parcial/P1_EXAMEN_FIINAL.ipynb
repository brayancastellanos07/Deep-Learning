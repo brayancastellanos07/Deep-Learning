{
  "nbformat": 4,
  "nbformat_minor": 0,
  "metadata": {
    "colab": {
      "name": "P1_EXAMEN_FIINAL.ipynb",
      "provenance": [],
      "collapsed_sections": []
    },
    "kernelspec": {
      "name": "python3",
      "display_name": "Python 3"
    },
    "language_info": {
      "name": "python"
    }
  },
  "cells": [
    {
      "cell_type": "markdown",
      "source": [
        "#Quienes somos:\n",
        "\n",
        "\n",
        "*   Alix Ivonne Chaparro Vasquez\n",
        "*   Jairo Eduardo Garcia Sisa\n",
        "*   Daniel Alejandro Barreto Soracá \n",
        "*   Brayan Alberto Castellanos Bernal \n",
        "\n",
        "---\n",
        "Origen de la data:\n",
        "https://drive.google.com/file/d/1oberUVGPrgR5sBMF54aLTNj2hhy181A8/view?usp=sharing\n",
        "\n",
        "\n"
      ],
      "metadata": {
        "id": "lvAGyDZ8xRR6"
      }
    },
    {
      "cell_type": "markdown",
      "source": [
        "#P0. importar librerias (5%)"
      ],
      "metadata": {
        "id": "7xSNTCuKycKX"
      }
    },
    {
      "cell_type": "markdown",
      "source": [
        "##P0.1 librerias genericas"
      ],
      "metadata": {
        "id": "ZtWObboVygow"
      }
    },
    {
      "cell_type": "code",
      "source": [
        "import numpy as np\n",
        "import pandas as pd\n",
        "\n",
        "import matplotlib.pyplot as plt\n",
        "import seaborn as sb\n",
        "%matplotlib inline\n",
        "plt.rcParams['figure.figsize'] = (16, 9)\n",
        "plt.style.use('ggplot')"
      ],
      "metadata": {
        "id": "FTNaZxrDykJH"
      },
      "execution_count": null,
      "outputs": []
    },
    {
      "cell_type": "markdown",
      "source": [
        "##P0.2 librerias para Machine learning"
      ],
      "metadata": {
        "id": "4xDAw9coyk9Q"
      }
    },
    {
      "cell_type": "code",
      "source": [
        "from sklearn.cluster import KMeans\n",
        "from sklearn import preprocessing  #para normalizar los datos antes de aplicar al algoritmo\n",
        "from sklearn.metrics import pairwise_distances_argmin_min\n",
        "from sklearn import metrics"
      ],
      "metadata": {
        "id": "FKu_AavIzieR"
      },
      "execution_count": null,
      "outputs": []
    },
    {
      "cell_type": "markdown",
      "source": [
        "#P1. importando dataset (5%)"
      ],
      "metadata": {
        "id": "4_T1DhPnzXZW"
      }
    },
    {
      "cell_type": "code",
      "execution_count": null,
      "metadata": {
        "id": "0xA-Px9nxKuW",
        "colab": {
          "base_uri": "https://localhost:8080/",
          "height": 371
        },
        "outputId": "dd686bc7-457b-4fa9-b919-b624e4f6c60f"
      },
      "outputs": [
        {
          "output_type": "stream",
          "name": "stdout",
          "text": [
            "Drive already mounted at /content/gdrive; to attempt to forcibly remount, call drive.mount(\"/content/gdrive\", force_remount=True).\n"
          ]
        },
        {
          "output_type": "execute_result",
          "data": {
            "text/plain": [
              "  DEPARTAMENTO          MUNICIPIO  CODIGO DANE ARMAS MEDIOS FECHA HECHO  \\\n",
              "0    ANTIOQUIA            LA CEJA      5376000         MOTO   1/01/2010   \n",
              "1    ATLÁNTICO  BARRANQUILLA (CT)      8001000         MOTO   1/01/2010   \n",
              "2    ATLÁNTICO            LURUACO      8421000         MOTO   1/01/2010   \n",
              "3      CAQUETÁ        PUERTO RICO     18592000         MOTO   1/01/2010   \n",
              "4     CASANARE            AGUAZUL     85010000         MOTO   1/01/2010   \n",
              "\n",
              "      GENERO  GRUPO ETARÍO                               DESCRIPCIÓN CONDUCTA  \\\n",
              "0  MASCULINO       ADULTOS  ARTÍCULO 109. HOMICIDIO CULPOSO ( EN ACCIDENTE...   \n",
              "1   FEMENINO       ADULTOS  ARTÍCULO 109. HOMICIDIO CULPOSO ( EN ACCIDENTE...   \n",
              "2  MASCULINO       ADULTOS  ARTÍCULO 109. HOMICIDIO CULPOSO ( EN ACCIDENTE...   \n",
              "3  MASCULINO  ADOLESCENTES  ARTÍCULO 109. HOMICIDIO CULPOSO ( EN ACCIDENTE...   \n",
              "4  MASCULINO       ADULTOS  ARTÍCULO 109. HOMICIDIO CULPOSO ( EN ACCIDENTE...   \n",
              "\n",
              "   CANTIDAD  \n",
              "0         1  \n",
              "1         1  \n",
              "2         1  \n",
              "3         1  \n",
              "4         1  "
            ],
            "text/html": [
              "\n",
              "  <div id=\"df-8b2c1ba5-2a7c-4a2f-b8b4-f175645293b5\">\n",
              "    <div class=\"colab-df-container\">\n",
              "      <div>\n",
              "<style scoped>\n",
              "    .dataframe tbody tr th:only-of-type {\n",
              "        vertical-align: middle;\n",
              "    }\n",
              "\n",
              "    .dataframe tbody tr th {\n",
              "        vertical-align: top;\n",
              "    }\n",
              "\n",
              "    .dataframe thead th {\n",
              "        text-align: right;\n",
              "    }\n",
              "</style>\n",
              "<table border=\"1\" class=\"dataframe\">\n",
              "  <thead>\n",
              "    <tr style=\"text-align: right;\">\n",
              "      <th></th>\n",
              "      <th>DEPARTAMENTO</th>\n",
              "      <th>MUNICIPIO</th>\n",
              "      <th>CODIGO DANE</th>\n",
              "      <th>ARMAS MEDIOS</th>\n",
              "      <th>FECHA HECHO</th>\n",
              "      <th>GENERO</th>\n",
              "      <th>GRUPO ETARÍO</th>\n",
              "      <th>DESCRIPCIÓN CONDUCTA</th>\n",
              "      <th>CANTIDAD</th>\n",
              "    </tr>\n",
              "  </thead>\n",
              "  <tbody>\n",
              "    <tr>\n",
              "      <th>0</th>\n",
              "      <td>ANTIOQUIA</td>\n",
              "      <td>LA CEJA</td>\n",
              "      <td>5376000</td>\n",
              "      <td>MOTO</td>\n",
              "      <td>1/01/2010</td>\n",
              "      <td>MASCULINO</td>\n",
              "      <td>ADULTOS</td>\n",
              "      <td>ARTÍCULO 109. HOMICIDIO CULPOSO ( EN ACCIDENTE...</td>\n",
              "      <td>1</td>\n",
              "    </tr>\n",
              "    <tr>\n",
              "      <th>1</th>\n",
              "      <td>ATLÁNTICO</td>\n",
              "      <td>BARRANQUILLA (CT)</td>\n",
              "      <td>8001000</td>\n",
              "      <td>MOTO</td>\n",
              "      <td>1/01/2010</td>\n",
              "      <td>FEMENINO</td>\n",
              "      <td>ADULTOS</td>\n",
              "      <td>ARTÍCULO 109. HOMICIDIO CULPOSO ( EN ACCIDENTE...</td>\n",
              "      <td>1</td>\n",
              "    </tr>\n",
              "    <tr>\n",
              "      <th>2</th>\n",
              "      <td>ATLÁNTICO</td>\n",
              "      <td>LURUACO</td>\n",
              "      <td>8421000</td>\n",
              "      <td>MOTO</td>\n",
              "      <td>1/01/2010</td>\n",
              "      <td>MASCULINO</td>\n",
              "      <td>ADULTOS</td>\n",
              "      <td>ARTÍCULO 109. HOMICIDIO CULPOSO ( EN ACCIDENTE...</td>\n",
              "      <td>1</td>\n",
              "    </tr>\n",
              "    <tr>\n",
              "      <th>3</th>\n",
              "      <td>CAQUETÁ</td>\n",
              "      <td>PUERTO RICO</td>\n",
              "      <td>18592000</td>\n",
              "      <td>MOTO</td>\n",
              "      <td>1/01/2010</td>\n",
              "      <td>MASCULINO</td>\n",
              "      <td>ADOLESCENTES</td>\n",
              "      <td>ARTÍCULO 109. HOMICIDIO CULPOSO ( EN ACCIDENTE...</td>\n",
              "      <td>1</td>\n",
              "    </tr>\n",
              "    <tr>\n",
              "      <th>4</th>\n",
              "      <td>CASANARE</td>\n",
              "      <td>AGUAZUL</td>\n",
              "      <td>85010000</td>\n",
              "      <td>MOTO</td>\n",
              "      <td>1/01/2010</td>\n",
              "      <td>MASCULINO</td>\n",
              "      <td>ADULTOS</td>\n",
              "      <td>ARTÍCULO 109. HOMICIDIO CULPOSO ( EN ACCIDENTE...</td>\n",
              "      <td>1</td>\n",
              "    </tr>\n",
              "  </tbody>\n",
              "</table>\n",
              "</div>\n",
              "      <button class=\"colab-df-convert\" onclick=\"convertToInteractive('df-8b2c1ba5-2a7c-4a2f-b8b4-f175645293b5')\"\n",
              "              title=\"Convert this dataframe to an interactive table.\"\n",
              "              style=\"display:none;\">\n",
              "        \n",
              "  <svg xmlns=\"http://www.w3.org/2000/svg\" height=\"24px\"viewBox=\"0 0 24 24\"\n",
              "       width=\"24px\">\n",
              "    <path d=\"M0 0h24v24H0V0z\" fill=\"none\"/>\n",
              "    <path d=\"M18.56 5.44l.94 2.06.94-2.06 2.06-.94-2.06-.94-.94-2.06-.94 2.06-2.06.94zm-11 1L8.5 8.5l.94-2.06 2.06-.94-2.06-.94L8.5 2.5l-.94 2.06-2.06.94zm10 10l.94 2.06.94-2.06 2.06-.94-2.06-.94-.94-2.06-.94 2.06-2.06.94z\"/><path d=\"M17.41 7.96l-1.37-1.37c-.4-.4-.92-.59-1.43-.59-.52 0-1.04.2-1.43.59L10.3 9.45l-7.72 7.72c-.78.78-.78 2.05 0 2.83L4 21.41c.39.39.9.59 1.41.59.51 0 1.02-.2 1.41-.59l7.78-7.78 2.81-2.81c.8-.78.8-2.07 0-2.86zM5.41 20L4 18.59l7.72-7.72 1.47 1.35L5.41 20z\"/>\n",
              "  </svg>\n",
              "      </button>\n",
              "      \n",
              "  <style>\n",
              "    .colab-df-container {\n",
              "      display:flex;\n",
              "      flex-wrap:wrap;\n",
              "      gap: 12px;\n",
              "    }\n",
              "\n",
              "    .colab-df-convert {\n",
              "      background-color: #E8F0FE;\n",
              "      border: none;\n",
              "      border-radius: 50%;\n",
              "      cursor: pointer;\n",
              "      display: none;\n",
              "      fill: #1967D2;\n",
              "      height: 32px;\n",
              "      padding: 0 0 0 0;\n",
              "      width: 32px;\n",
              "    }\n",
              "\n",
              "    .colab-df-convert:hover {\n",
              "      background-color: #E2EBFA;\n",
              "      box-shadow: 0px 1px 2px rgba(60, 64, 67, 0.3), 0px 1px 3px 1px rgba(60, 64, 67, 0.15);\n",
              "      fill: #174EA6;\n",
              "    }\n",
              "\n",
              "    [theme=dark] .colab-df-convert {\n",
              "      background-color: #3B4455;\n",
              "      fill: #D2E3FC;\n",
              "    }\n",
              "\n",
              "    [theme=dark] .colab-df-convert:hover {\n",
              "      background-color: #434B5C;\n",
              "      box-shadow: 0px 1px 3px 1px rgba(0, 0, 0, 0.15);\n",
              "      filter: drop-shadow(0px 1px 2px rgba(0, 0, 0, 0.3));\n",
              "      fill: #FFFFFF;\n",
              "    }\n",
              "  </style>\n",
              "\n",
              "      <script>\n",
              "        const buttonEl =\n",
              "          document.querySelector('#df-8b2c1ba5-2a7c-4a2f-b8b4-f175645293b5 button.colab-df-convert');\n",
              "        buttonEl.style.display =\n",
              "          google.colab.kernel.accessAllowed ? 'block' : 'none';\n",
              "\n",
              "        async function convertToInteractive(key) {\n",
              "          const element = document.querySelector('#df-8b2c1ba5-2a7c-4a2f-b8b4-f175645293b5');\n",
              "          const dataTable =\n",
              "            await google.colab.kernel.invokeFunction('convertToInteractive',\n",
              "                                                     [key], {});\n",
              "          if (!dataTable) return;\n",
              "\n",
              "          const docLinkHtml = 'Like what you see? Visit the ' +\n",
              "            '<a target=\"_blank\" href=https://colab.research.google.com/notebooks/data_table.ipynb>data table notebook</a>'\n",
              "            + ' to learn more about interactive tables.';\n",
              "          element.innerHTML = '';\n",
              "          dataTable['output_type'] = 'display_data';\n",
              "          await google.colab.output.renderOutput(dataTable, element);\n",
              "          const docLink = document.createElement('div');\n",
              "          docLink.innerHTML = docLinkHtml;\n",
              "          element.appendChild(docLink);\n",
              "        }\n",
              "      </script>\n",
              "    </div>\n",
              "  </div>\n",
              "  "
            ]
          },
          "metadata": {},
          "execution_count": 14
        }
      ],
      "source": [
        "from google.colab import drive\n",
        "drive.mount('/content/gdrive')\n",
        "df_homicidios = pd.read_csv(\"/content/gdrive/MyDrive/Homicidios_accidente_de_tr_nsito_Polic_a_Nacional.csv\")\n",
        "df_homicidios.head()"
      ]
    },
    {
      "cell_type": "markdown",
      "source": [
        "#P2.Conociendo y normalizando los datos (30%)\n"
      ],
      "metadata": {
        "id": "PoriSFw20WD4"
      }
    },
    {
      "cell_type": "markdown",
      "source": [
        "###P2.0 generales (10%)\n",
        "\n",
        "---\n",
        "*   dimensiones del dataframe\n",
        "*   existen columnas con nulos?\n",
        "*   todos las columnas son númericos?\n",
        "*   existen valores negativos?...si existen que hacemos con ellos?\n"
      ],
      "metadata": {
        "id": "V4kVMLqYm8t0"
      }
    },
    {
      "cell_type": "code",
      "source": [
        "df_homicidios.info()\n",
        "#df_homicidios.describe()\n",
        "#df_homicidios.shape()\n",
        "#df_homicidios.isnull().sum()"
      ],
      "metadata": {
        "id": "hDIdqotq1O1X",
        "colab": {
          "base_uri": "https://localhost:8080/"
        },
        "outputId": "be944f14-7c57-4b31-ed7a-9213182ab096"
      },
      "execution_count": null,
      "outputs": [
        {
          "output_type": "stream",
          "name": "stdout",
          "text": [
            "<class 'pandas.core.frame.DataFrame'>\n",
            "RangeIndex: 58760 entries, 0 to 58759\n",
            "Data columns (total 9 columns):\n",
            " #   Column                Non-Null Count  Dtype \n",
            "---  ------                --------------  ----- \n",
            " 0   DEPARTAMENTO          58760 non-null  object\n",
            " 1   MUNICIPIO             58760 non-null  object\n",
            " 2   CODIGO DANE           58760 non-null  int64 \n",
            " 3   ARMAS MEDIOS          58760 non-null  object\n",
            " 4   FECHA HECHO           58760 non-null  object\n",
            " 5   GENERO                58760 non-null  object\n",
            " 6   GRUPO ETARÍO          58760 non-null  object\n",
            " 7   DESCRIPCIÓN CONDUCTA  58760 non-null  object\n",
            " 8   CANTIDAD              58760 non-null  int64 \n",
            "dtypes: int64(2), object(7)\n",
            "memory usage: 4.0+ MB\n"
          ]
        }
      ]
    },
    {
      "cell_type": "markdown",
      "source": [
        "##P2.1 Normalizando los datos (50%)"
      ],
      "metadata": {
        "id": "wCM8lZE-9ELZ"
      }
    },
    {
      "cell_type": "markdown",
      "source": [
        "###P2.1.1 Convertir datos object (Categoricos o Text) en Data Numerica/DateTime"
      ],
      "metadata": {
        "id": "3ppKikwV1bO0"
      }
    },
    {
      "cell_type": "code",
      "source": [
        "from sklearn import preprocessing\n",
        "le = preprocessing.LabelEncoder()"
      ],
      "metadata": {
        "id": "Ddi1EkDFvnrE"
      },
      "execution_count": null,
      "outputs": []
    },
    {
      "cell_type": "code",
      "source": [
        "uniqueValues = df_homicidios['GENERO'].unique()\n",
        "print(sorted(uniqueValues))"
      ],
      "metadata": {
        "id": "h3YmpLDXv6bW",
        "colab": {
          "base_uri": "https://localhost:8080/"
        },
        "outputId": "8441ce0c-55f4-4ff8-86fc-a5b50ab43d57"
      },
      "execution_count": null,
      "outputs": [
        {
          "output_type": "stream",
          "name": "stdout",
          "text": [
            "['FEMENINO', 'MASCULINO', 'NO REPORTA', 'NO REPORTADO']\n"
          ]
        }
      ]
    },
    {
      "cell_type": "code",
      "source": [
        "df_homicidios.head()"
      ],
      "metadata": {
        "id": "qcvb2DSdpVoB",
        "colab": {
          "base_uri": "https://localhost:8080/",
          "height": 354
        },
        "outputId": "87dd372a-1080-45e4-9761-8b2172612d10"
      },
      "execution_count": null,
      "outputs": [
        {
          "output_type": "execute_result",
          "data": {
            "text/plain": [
              "  DEPARTAMENTO          MUNICIPIO  CODIGO DANE ARMAS MEDIOS FECHA HECHO  \\\n",
              "0    ANTIOQUIA            LA CEJA      5376000         MOTO   1/01/2010   \n",
              "1    ATLÁNTICO  BARRANQUILLA (CT)      8001000         MOTO   1/01/2010   \n",
              "2    ATLÁNTICO            LURUACO      8421000         MOTO   1/01/2010   \n",
              "3      CAQUETÁ        PUERTO RICO     18592000         MOTO   1/01/2010   \n",
              "4     CASANARE            AGUAZUL     85010000         MOTO   1/01/2010   \n",
              "\n",
              "      GENERO  GRUPO ETARÍO                               DESCRIPCIÓN CONDUCTA  \\\n",
              "0  MASCULINO       ADULTOS  ARTÍCULO 109. HOMICIDIO CULPOSO ( EN ACCIDENTE...   \n",
              "1   FEMENINO       ADULTOS  ARTÍCULO 109. HOMICIDIO CULPOSO ( EN ACCIDENTE...   \n",
              "2  MASCULINO       ADULTOS  ARTÍCULO 109. HOMICIDIO CULPOSO ( EN ACCIDENTE...   \n",
              "3  MASCULINO  ADOLESCENTES  ARTÍCULO 109. HOMICIDIO CULPOSO ( EN ACCIDENTE...   \n",
              "4  MASCULINO       ADULTOS  ARTÍCULO 109. HOMICIDIO CULPOSO ( EN ACCIDENTE...   \n",
              "\n",
              "   CANTIDAD  \n",
              "0         1  \n",
              "1         1  \n",
              "2         1  \n",
              "3         1  \n",
              "4         1  "
            ],
            "text/html": [
              "\n",
              "  <div id=\"df-aafdd6e8-066c-45ca-9514-d3a6ff530091\">\n",
              "    <div class=\"colab-df-container\">\n",
              "      <div>\n",
              "<style scoped>\n",
              "    .dataframe tbody tr th:only-of-type {\n",
              "        vertical-align: middle;\n",
              "    }\n",
              "\n",
              "    .dataframe tbody tr th {\n",
              "        vertical-align: top;\n",
              "    }\n",
              "\n",
              "    .dataframe thead th {\n",
              "        text-align: right;\n",
              "    }\n",
              "</style>\n",
              "<table border=\"1\" class=\"dataframe\">\n",
              "  <thead>\n",
              "    <tr style=\"text-align: right;\">\n",
              "      <th></th>\n",
              "      <th>DEPARTAMENTO</th>\n",
              "      <th>MUNICIPIO</th>\n",
              "      <th>CODIGO DANE</th>\n",
              "      <th>ARMAS MEDIOS</th>\n",
              "      <th>FECHA HECHO</th>\n",
              "      <th>GENERO</th>\n",
              "      <th>GRUPO ETARÍO</th>\n",
              "      <th>DESCRIPCIÓN CONDUCTA</th>\n",
              "      <th>CANTIDAD</th>\n",
              "    </tr>\n",
              "  </thead>\n",
              "  <tbody>\n",
              "    <tr>\n",
              "      <th>0</th>\n",
              "      <td>ANTIOQUIA</td>\n",
              "      <td>LA CEJA</td>\n",
              "      <td>5376000</td>\n",
              "      <td>MOTO</td>\n",
              "      <td>1/01/2010</td>\n",
              "      <td>MASCULINO</td>\n",
              "      <td>ADULTOS</td>\n",
              "      <td>ARTÍCULO 109. HOMICIDIO CULPOSO ( EN ACCIDENTE...</td>\n",
              "      <td>1</td>\n",
              "    </tr>\n",
              "    <tr>\n",
              "      <th>1</th>\n",
              "      <td>ATLÁNTICO</td>\n",
              "      <td>BARRANQUILLA (CT)</td>\n",
              "      <td>8001000</td>\n",
              "      <td>MOTO</td>\n",
              "      <td>1/01/2010</td>\n",
              "      <td>FEMENINO</td>\n",
              "      <td>ADULTOS</td>\n",
              "      <td>ARTÍCULO 109. HOMICIDIO CULPOSO ( EN ACCIDENTE...</td>\n",
              "      <td>1</td>\n",
              "    </tr>\n",
              "    <tr>\n",
              "      <th>2</th>\n",
              "      <td>ATLÁNTICO</td>\n",
              "      <td>LURUACO</td>\n",
              "      <td>8421000</td>\n",
              "      <td>MOTO</td>\n",
              "      <td>1/01/2010</td>\n",
              "      <td>MASCULINO</td>\n",
              "      <td>ADULTOS</td>\n",
              "      <td>ARTÍCULO 109. HOMICIDIO CULPOSO ( EN ACCIDENTE...</td>\n",
              "      <td>1</td>\n",
              "    </tr>\n",
              "    <tr>\n",
              "      <th>3</th>\n",
              "      <td>CAQUETÁ</td>\n",
              "      <td>PUERTO RICO</td>\n",
              "      <td>18592000</td>\n",
              "      <td>MOTO</td>\n",
              "      <td>1/01/2010</td>\n",
              "      <td>MASCULINO</td>\n",
              "      <td>ADOLESCENTES</td>\n",
              "      <td>ARTÍCULO 109. HOMICIDIO CULPOSO ( EN ACCIDENTE...</td>\n",
              "      <td>1</td>\n",
              "    </tr>\n",
              "    <tr>\n",
              "      <th>4</th>\n",
              "      <td>CASANARE</td>\n",
              "      <td>AGUAZUL</td>\n",
              "      <td>85010000</td>\n",
              "      <td>MOTO</td>\n",
              "      <td>1/01/2010</td>\n",
              "      <td>MASCULINO</td>\n",
              "      <td>ADULTOS</td>\n",
              "      <td>ARTÍCULO 109. HOMICIDIO CULPOSO ( EN ACCIDENTE...</td>\n",
              "      <td>1</td>\n",
              "    </tr>\n",
              "  </tbody>\n",
              "</table>\n",
              "</div>\n",
              "      <button class=\"colab-df-convert\" onclick=\"convertToInteractive('df-aafdd6e8-066c-45ca-9514-d3a6ff530091')\"\n",
              "              title=\"Convert this dataframe to an interactive table.\"\n",
              "              style=\"display:none;\">\n",
              "        \n",
              "  <svg xmlns=\"http://www.w3.org/2000/svg\" height=\"24px\"viewBox=\"0 0 24 24\"\n",
              "       width=\"24px\">\n",
              "    <path d=\"M0 0h24v24H0V0z\" fill=\"none\"/>\n",
              "    <path d=\"M18.56 5.44l.94 2.06.94-2.06 2.06-.94-2.06-.94-.94-2.06-.94 2.06-2.06.94zm-11 1L8.5 8.5l.94-2.06 2.06-.94-2.06-.94L8.5 2.5l-.94 2.06-2.06.94zm10 10l.94 2.06.94-2.06 2.06-.94-2.06-.94-.94-2.06-.94 2.06-2.06.94z\"/><path d=\"M17.41 7.96l-1.37-1.37c-.4-.4-.92-.59-1.43-.59-.52 0-1.04.2-1.43.59L10.3 9.45l-7.72 7.72c-.78.78-.78 2.05 0 2.83L4 21.41c.39.39.9.59 1.41.59.51 0 1.02-.2 1.41-.59l7.78-7.78 2.81-2.81c.8-.78.8-2.07 0-2.86zM5.41 20L4 18.59l7.72-7.72 1.47 1.35L5.41 20z\"/>\n",
              "  </svg>\n",
              "      </button>\n",
              "      \n",
              "  <style>\n",
              "    .colab-df-container {\n",
              "      display:flex;\n",
              "      flex-wrap:wrap;\n",
              "      gap: 12px;\n",
              "    }\n",
              "\n",
              "    .colab-df-convert {\n",
              "      background-color: #E8F0FE;\n",
              "      border: none;\n",
              "      border-radius: 50%;\n",
              "      cursor: pointer;\n",
              "      display: none;\n",
              "      fill: #1967D2;\n",
              "      height: 32px;\n",
              "      padding: 0 0 0 0;\n",
              "      width: 32px;\n",
              "    }\n",
              "\n",
              "    .colab-df-convert:hover {\n",
              "      background-color: #E2EBFA;\n",
              "      box-shadow: 0px 1px 2px rgba(60, 64, 67, 0.3), 0px 1px 3px 1px rgba(60, 64, 67, 0.15);\n",
              "      fill: #174EA6;\n",
              "    }\n",
              "\n",
              "    [theme=dark] .colab-df-convert {\n",
              "      background-color: #3B4455;\n",
              "      fill: #D2E3FC;\n",
              "    }\n",
              "\n",
              "    [theme=dark] .colab-df-convert:hover {\n",
              "      background-color: #434B5C;\n",
              "      box-shadow: 0px 1px 3px 1px rgba(0, 0, 0, 0.15);\n",
              "      filter: drop-shadow(0px 1px 2px rgba(0, 0, 0, 0.3));\n",
              "      fill: #FFFFFF;\n",
              "    }\n",
              "  </style>\n",
              "\n",
              "      <script>\n",
              "        const buttonEl =\n",
              "          document.querySelector('#df-aafdd6e8-066c-45ca-9514-d3a6ff530091 button.colab-df-convert');\n",
              "        buttonEl.style.display =\n",
              "          google.colab.kernel.accessAllowed ? 'block' : 'none';\n",
              "\n",
              "        async function convertToInteractive(key) {\n",
              "          const element = document.querySelector('#df-aafdd6e8-066c-45ca-9514-d3a6ff530091');\n",
              "          const dataTable =\n",
              "            await google.colab.kernel.invokeFunction('convertToInteractive',\n",
              "                                                     [key], {});\n",
              "          if (!dataTable) return;\n",
              "\n",
              "          const docLinkHtml = 'Like what you see? Visit the ' +\n",
              "            '<a target=\"_blank\" href=https://colab.research.google.com/notebooks/data_table.ipynb>data table notebook</a>'\n",
              "            + ' to learn more about interactive tables.';\n",
              "          element.innerHTML = '';\n",
              "          dataTable['output_type'] = 'display_data';\n",
              "          await google.colab.output.renderOutput(dataTable, element);\n",
              "          const docLink = document.createElement('div');\n",
              "          docLink.innerHTML = docLinkHtml;\n",
              "          element.appendChild(docLink);\n",
              "        }\n",
              "      </script>\n",
              "    </div>\n",
              "  </div>\n",
              "  "
            ]
          },
          "metadata": {},
          "execution_count": 21
        }
      ]
    },
    {
      "cell_type": "code",
      "source": [
        "DEPARTAMENTO = { \n",
        "    'AMAZONAS' : 1, \n",
        "    'ANTIOQUIA' : 2, \n",
        "    'ARAUCA' : 3,\n",
        "    'ATLÁNTICO' : 4, \n",
        "    'BOLÍVAR' : 5, \n",
        "    'BOYACÁ' : 6, \n",
        "    'CALDAS' : 7 , \n",
        "    'CAQUETÁ' : 8, \n",
        "    'CASANARE' : 9, \n",
        "    'CAUCA' : 10, \n",
        "    'CESAR' : 11, \n",
        "    'CHOCÓ' : 12, \n",
        "    'CUNDINAMARCA' : 13, \n",
        "    'CÓRDOBA' : 14, \n",
        "    'GUAINÍA' : 15, \n",
        "    'GUAJIRA' : 16, \n",
        "    'GUAVIARE' : 17, \n",
        "    'HUILA' : 18, \n",
        "    'MAGDALENA' : 19, \n",
        "    'META' : 20, \n",
        "    'NARIÑO' : 21, \n",
        "    'NORTE DE SANTANDER' : 22, \n",
        "    'PUTUMAYO' : 23, \n",
        "    'QUINDÍO' : 24, \n",
        "    'RISARALDA' : 25, \n",
        "    'SAN ANDRÉS' : 26, \n",
        "    'SANTANDER' : 27, \n",
        "    'SUCRE' : 28, \n",
        "    'TOLIMA' : 29, \n",
        "    'VALLE' : 30, \n",
        "    'VAUPÉS' : 31, \n",
        "    'VICHADA' :32\n",
        "}\n",
        "df_homicidios['DEPARTAMENTOS ACT'] = df_homicidios['DEPARTAMENTO'].map(DEPARTAMENTO)"
      ],
      "metadata": {
        "id": "CDHHSmH5xbd_"
      },
      "execution_count": null,
      "outputs": []
    },
    {
      "cell_type": "code",
      "source": [
        "ARMAS_MEDIOS = {\n",
        "    'BICICLETA' : 1,\n",
        "    'CONTUNDENTES' : 2,\n",
        "    'MOTO' : 3,\n",
        "    'NO REPORTADO' : 4,\n",
        "    'SIN EMPLEO DE ARMAS' : 5,\n",
        "    'TREN' : 6,\n",
        "    'VEHICULO' :7\n",
        "}\n",
        "df_homicidios['ARMAS MEDIOS ACT'] = df_homicidios['ARMAS MEDIOS'].map(ARMAS_MEDIOS)"
      ],
      "metadata": {
        "id": "XR40QSTP8O6E"
      },
      "execution_count": null,
      "outputs": []
    },
    {
      "cell_type": "code",
      "source": [
        "GENERO = {\n",
        "    'FEMENINO' : 1,\n",
        "    'MASCULINO' : 2,\n",
        "    'NO REPORTA' : 3,\n",
        "    'NO REPORTADO' : 4\n",
        "}\n",
        "df_homicidios['GENERO ACT'] = df_homicidios['GENERO'].map(GENERO)"
      ],
      "metadata": {
        "id": "GrJZHdfI__F4"
      },
      "execution_count": null,
      "outputs": []
    },
    {
      "cell_type": "code",
      "source": [
        "le.fit(df_homicidios['FECHA HECHO'])\n",
        "list(le.classes_)\n",
        "df_homicidios['FECHA HECHO ACT'] = le.fit_transform(df_homicidios['FECHA HECHO'])"
      ],
      "metadata": {
        "id": "Nw1vC1rn9ijO"
      },
      "execution_count": null,
      "outputs": []
    },
    {
      "cell_type": "code",
      "source": [
        "le.fit(df_homicidios['MUNICIPIO'])\n",
        "list(le.classes_)\n",
        "df_homicidios['MUNICIPIO ACT'] = le.fit_transform(df_homicidios['MUNICIPIO'])"
      ],
      "metadata": {
        "id": "eav92dGC6VcQ"
      },
      "execution_count": null,
      "outputs": []
    },
    {
      "cell_type": "code",
      "source": [
        "##df_homicidiosv2['DEPARTAMENTO ACT'] = pd.to_numeric(df_homicidiosv2['DEPARTAMENTO ACT'])                        #  convertimos el campo a numerico \n",
        "##df_homicidios['MUNICIPIO'] = pd.to_numeric(df_homicidios['MUNICIPIO'])\n",
        "##df_homicidios['CODIGO DANE'] = pd.to_numeric(df_homicidios['CODIGO DANE'])\n",
        "##df_homicidios['ARMAS MEDIAS'] = pd.to_numeric(df_homicidios['ARMAS MEDIAS'])\n",
        "##df_homicidios['FECHA HECHO']=pd.to_datetime(df_homicidios['FECHA HECHO'], dayfirst = True)        # Convertimos el campo FECHA en tipo DATETIME\n",
        "##df_homicidios['GENERO'] = pd.to_numeric(df_homicidios['GENERO'])\n",
        "##df_homicidios['GRUPO ETARÍO'] = pd.to_numeric(df_homicidios['GRUPO ETARÍO'])\n",
        "##df_homicidios['DESCRIPCIÓN CONDUCTA'] = pd.to_numeric(df_homicidios['DESCRIPCIÓN CONDUCTA'])\n",
        "##df_homicidios['CANTIDAD'] = pd.to_numeric(df_homicidios['CANTIDAD'])"
      ],
      "metadata": {
        "id": "0xy0Xz9Jup8f"
      },
      "execution_count": 127,
      "outputs": []
    },
    {
      "cell_type": "markdown",
      "source": [
        "###Eliminar datos duplicados, con variable para guardar"
      ],
      "metadata": {
        "id": "gX8cRhUkHU67"
      }
    },
    {
      "cell_type": "code",
      "source": [
        "df_homicidiosv2=df_homicidios.drop(['DEPARTAMENTO',\n",
        "                                    'MUNICIPIO',\n",
        "                                    'CODIGO DANE',\n",
        "                                    'ARMAS MEDIOS',\n",
        "                                    'FECHA HECHO',\n",
        "                                    'GENERO',\n",
        "                                    'GRUPO ETARÍO',\n",
        "                                    'DESCRIPCIÓN CONDUCTA',\n",
        "                                    'CANTIDAD'],axis=1)"
      ],
      "metadata": {
        "id": "0Mw1PNoz1wNg"
      },
      "execution_count": null,
      "outputs": []
    },
    {
      "cell_type": "markdown",
      "source": [
        "###P2.1.2 normalizar todos los datos numericos entre [0, 1]."
      ],
      "metadata": {
        "id": "hdmGSXVH9dda"
      }
    },
    {
      "cell_type": "code",
      "source": [
        "min_max_scaler = preprocessing.MinMaxScaler()\n",
        "df_escalado = min_max_scaler.fit_transform(df_homicidiosv2)\n",
        "df_escalado = pd.DataFrame(df_escalado)\n",
        "df_escalado = df_escalado.rename(columns = {0:'DEPARTAMENTO',1:'MUNICIPIO',2:'CODIGO DANE',3:'ARMAS MEDIOS',4: 'FECHA HECHO', 5: 'GENERO',6: 'GRUPO ETARÍO',7: 'DESCRIPCIÓN CONDUCTA',8: 'CANTIDAD'})  \n",
        "\n",
        "df_escalado.head()"
      ],
      "metadata": {
        "id": "O5hiWtUV9jtB",
        "outputId": "c174d906-a9e8-44ca-9b23-716c655dc274",
        "colab": {
          "base_uri": "https://localhost:8080/",
          "height": 206
        }
      },
      "execution_count": null,
      "outputs": [
        {
          "output_type": "execute_result",
          "data": {
            "text/plain": [
              "   DEPARTAMENTO  MUNICIPIO  CODIGO DANE  ARMAS MEDIOS  FECHA HECHO\n",
              "0      0.032258   0.333333     0.333333           0.0     0.415719\n",
              "1      0.096774   0.333333     0.000000           0.0     0.081696\n",
              "2      0.096774   0.333333     0.333333           0.0     0.465357\n",
              "3      0.225806   0.333333     0.333333           0.0     0.649431\n",
              "4      0.258065   0.333333     0.333333           0.0     0.011375"
            ],
            "text/html": [
              "\n",
              "  <div id=\"df-8fc693ed-32d0-417c-a00c-69d503dee889\">\n",
              "    <div class=\"colab-df-container\">\n",
              "      <div>\n",
              "<style scoped>\n",
              "    .dataframe tbody tr th:only-of-type {\n",
              "        vertical-align: middle;\n",
              "    }\n",
              "\n",
              "    .dataframe tbody tr th {\n",
              "        vertical-align: top;\n",
              "    }\n",
              "\n",
              "    .dataframe thead th {\n",
              "        text-align: right;\n",
              "    }\n",
              "</style>\n",
              "<table border=\"1\" class=\"dataframe\">\n",
              "  <thead>\n",
              "    <tr style=\"text-align: right;\">\n",
              "      <th></th>\n",
              "      <th>DEPARTAMENTO</th>\n",
              "      <th>MUNICIPIO</th>\n",
              "      <th>CODIGO DANE</th>\n",
              "      <th>ARMAS MEDIOS</th>\n",
              "      <th>FECHA HECHO</th>\n",
              "    </tr>\n",
              "  </thead>\n",
              "  <tbody>\n",
              "    <tr>\n",
              "      <th>0</th>\n",
              "      <td>0.032258</td>\n",
              "      <td>0.333333</td>\n",
              "      <td>0.333333</td>\n",
              "      <td>0.0</td>\n",
              "      <td>0.415719</td>\n",
              "    </tr>\n",
              "    <tr>\n",
              "      <th>1</th>\n",
              "      <td>0.096774</td>\n",
              "      <td>0.333333</td>\n",
              "      <td>0.000000</td>\n",
              "      <td>0.0</td>\n",
              "      <td>0.081696</td>\n",
              "    </tr>\n",
              "    <tr>\n",
              "      <th>2</th>\n",
              "      <td>0.096774</td>\n",
              "      <td>0.333333</td>\n",
              "      <td>0.333333</td>\n",
              "      <td>0.0</td>\n",
              "      <td>0.465357</td>\n",
              "    </tr>\n",
              "    <tr>\n",
              "      <th>3</th>\n",
              "      <td>0.225806</td>\n",
              "      <td>0.333333</td>\n",
              "      <td>0.333333</td>\n",
              "      <td>0.0</td>\n",
              "      <td>0.649431</td>\n",
              "    </tr>\n",
              "    <tr>\n",
              "      <th>4</th>\n",
              "      <td>0.258065</td>\n",
              "      <td>0.333333</td>\n",
              "      <td>0.333333</td>\n",
              "      <td>0.0</td>\n",
              "      <td>0.011375</td>\n",
              "    </tr>\n",
              "  </tbody>\n",
              "</table>\n",
              "</div>\n",
              "      <button class=\"colab-df-convert\" onclick=\"convertToInteractive('df-8fc693ed-32d0-417c-a00c-69d503dee889')\"\n",
              "              title=\"Convert this dataframe to an interactive table.\"\n",
              "              style=\"display:none;\">\n",
              "        \n",
              "  <svg xmlns=\"http://www.w3.org/2000/svg\" height=\"24px\"viewBox=\"0 0 24 24\"\n",
              "       width=\"24px\">\n",
              "    <path d=\"M0 0h24v24H0V0z\" fill=\"none\"/>\n",
              "    <path d=\"M18.56 5.44l.94 2.06.94-2.06 2.06-.94-2.06-.94-.94-2.06-.94 2.06-2.06.94zm-11 1L8.5 8.5l.94-2.06 2.06-.94-2.06-.94L8.5 2.5l-.94 2.06-2.06.94zm10 10l.94 2.06.94-2.06 2.06-.94-2.06-.94-.94-2.06-.94 2.06-2.06.94z\"/><path d=\"M17.41 7.96l-1.37-1.37c-.4-.4-.92-.59-1.43-.59-.52 0-1.04.2-1.43.59L10.3 9.45l-7.72 7.72c-.78.78-.78 2.05 0 2.83L4 21.41c.39.39.9.59 1.41.59.51 0 1.02-.2 1.41-.59l7.78-7.78 2.81-2.81c.8-.78.8-2.07 0-2.86zM5.41 20L4 18.59l7.72-7.72 1.47 1.35L5.41 20z\"/>\n",
              "  </svg>\n",
              "      </button>\n",
              "      \n",
              "  <style>\n",
              "    .colab-df-container {\n",
              "      display:flex;\n",
              "      flex-wrap:wrap;\n",
              "      gap: 12px;\n",
              "    }\n",
              "\n",
              "    .colab-df-convert {\n",
              "      background-color: #E8F0FE;\n",
              "      border: none;\n",
              "      border-radius: 50%;\n",
              "      cursor: pointer;\n",
              "      display: none;\n",
              "      fill: #1967D2;\n",
              "      height: 32px;\n",
              "      padding: 0 0 0 0;\n",
              "      width: 32px;\n",
              "    }\n",
              "\n",
              "    .colab-df-convert:hover {\n",
              "      background-color: #E2EBFA;\n",
              "      box-shadow: 0px 1px 2px rgba(60, 64, 67, 0.3), 0px 1px 3px 1px rgba(60, 64, 67, 0.15);\n",
              "      fill: #174EA6;\n",
              "    }\n",
              "\n",
              "    [theme=dark] .colab-df-convert {\n",
              "      background-color: #3B4455;\n",
              "      fill: #D2E3FC;\n",
              "    }\n",
              "\n",
              "    [theme=dark] .colab-df-convert:hover {\n",
              "      background-color: #434B5C;\n",
              "      box-shadow: 0px 1px 3px 1px rgba(0, 0, 0, 0.15);\n",
              "      filter: drop-shadow(0px 1px 2px rgba(0, 0, 0, 0.3));\n",
              "      fill: #FFFFFF;\n",
              "    }\n",
              "  </style>\n",
              "\n",
              "      <script>\n",
              "        const buttonEl =\n",
              "          document.querySelector('#df-8fc693ed-32d0-417c-a00c-69d503dee889 button.colab-df-convert');\n",
              "        buttonEl.style.display =\n",
              "          google.colab.kernel.accessAllowed ? 'block' : 'none';\n",
              "\n",
              "        async function convertToInteractive(key) {\n",
              "          const element = document.querySelector('#df-8fc693ed-32d0-417c-a00c-69d503dee889');\n",
              "          const dataTable =\n",
              "            await google.colab.kernel.invokeFunction('convertToInteractive',\n",
              "                                                     [key], {});\n",
              "          if (!dataTable) return;\n",
              "\n",
              "          const docLinkHtml = 'Like what you see? Visit the ' +\n",
              "            '<a target=\"_blank\" href=https://colab.research.google.com/notebooks/data_table.ipynb>data table notebook</a>'\n",
              "            + ' to learn more about interactive tables.';\n",
              "          element.innerHTML = '';\n",
              "          dataTable['output_type'] = 'display_data';\n",
              "          await google.colab.output.renderOutput(dataTable, element);\n",
              "          const docLink = document.createElement('div');\n",
              "          docLink.innerHTML = docLinkHtml;\n",
              "          element.appendChild(docLink);\n",
              "        }\n",
              "      </script>\n",
              "    </div>\n",
              "  </div>\n",
              "  "
            ]
          },
          "metadata": {},
          "execution_count": 69
        }
      ]
    },
    {
      "cell_type": "markdown",
      "source": [
        "###P2.1.3 exportando Data a un CSV con los arreglos (si son necesarios)."
      ],
      "metadata": {
        "id": "dZt6cLBk2qQQ"
      }
    },
    {
      "cell_type": "code",
      "source": [
        "#salvamos el dataFrame \n",
        "df_homicidios.to_csv('df_homicidiosv2.csv', index_label='row')"
      ],
      "metadata": {
        "id": "4gqcxnTgqf3N"
      },
      "execution_count": null,
      "outputs": []
    },
    {
      "cell_type": "markdown",
      "source": [
        "###P2.1.4 eliminar columnas que no usaremos (object) "
      ],
      "metadata": {
        "id": "L5BhTkwcpPkP"
      }
    },
    {
      "cell_type": "markdown",
      "source": [
        "##P2.2 graficando datos (40%)\n",
        "\n",
        "---\n",
        "\n",
        "*   Gráficos circulares \n",
        "*   Gráfico de dispersión (k-means) \n",
        "*   Histogramas\n",
        "*   uso de sabana de Graficas con seaborn\n",
        "*   Gráfico de historico (matplotlib.legend)\n",
        "*   matriz de correlación\n",
        "\n",
        "\n"
      ],
      "metadata": {
        "id": "gtyU8tdR1PbL"
      }
    },
    {
      "cell_type": "code",
      "source": [
        "##Codigo de los \n",
        "correlacion_matrix = df_escalado.corr().round(2)\n",
        "sb.heatmap(data=correlacion_matrix, annot=True)"
      ],
      "metadata": {
        "id": "e-4M7Ngn5ATD",
        "colab": {
          "base_uri": "https://localhost:8080/",
          "height": 558
        },
        "outputId": "678a540a-8dd4-4bbc-f006-41a66f03db60"
      },
      "execution_count": null,
      "outputs": [
        {
          "output_type": "execute_result",
          "data": {
            "text/plain": [
              "<matplotlib.axes._subplots.AxesSubplot at 0x7ff01001c910>"
            ]
          },
          "metadata": {},
          "execution_count": 79
        },
        {
          "output_type": "display_data",
          "data": {
            "text/plain": [
              "<Figure size 1152x648 with 2 Axes>"
            ],
            "image/png": "[encoded data removed]"
          },
          "metadata": {}
        }
      ]
    },
    {
      "cell_type": "code",
      "source": [
        "df_homicidiosv2.info()"
      ],
      "metadata": {
        "colab": {
          "base_uri": "https://localhost:8080/"
        },
        "id": "jy62Oh7CLv1w",
        "outputId": "9c0e1c8c-d3e7-4dbc-d95b-c20896d2f7c1"
      },
      "execution_count": null,
      "outputs": [
        {
          "output_type": "stream",
          "name": "stdout",
          "text": [
            "<class 'pandas.core.frame.DataFrame'>\n",
            "RangeIndex: 58760 entries, 0 to 58759\n",
            "Data columns (total 5 columns):\n",
            " #   Column             Non-Null Count  Dtype\n",
            "---  ------             --------------  -----\n",
            " 0   DEPARTAMENTOS ACT  58760 non-null  int64\n",
            " 1   ARMAS MEDIOS ACT   58760 non-null  int64\n",
            " 2   GENERO ACT         58760 non-null  int64\n",
            " 3   FECHA HECHO ACT    58760 non-null  int64\n",
            " 4   MUNICIPIO ACT      58760 non-null  int64\n",
            "dtypes: int64(5)\n",
            "memory usage: 2.2 MB\n"
          ]
        }
      ]
    },
    {
      "cell_type": "code",
      "source": [
        "from matplotlib import markers\n",
        "#Representacion gracfica de los datos \n",
        "x = df_homicidiosv2['MUNICIPIO ACT'].values\n",
        "y = df_homicidiosv2['GENERO ACT'].values\n",
        "plt.xlabel('MUNICIPIO')\n",
        "plt.ylabel('GENERO')\n",
        "plt.title('Municipio vs Cantidad de homicidios')\n",
        "plt.plot(x,y,'o', markersize=4)"
      ],
      "metadata": {
        "colab": {
          "base_uri": "https://localhost:8080/",
          "height": 588
        },
        "id": "fibXumOZJyfa",
        "outputId": "6c56e89c-c835-4a04-cd94-7163cb376000"
      },
      "execution_count": null,
      "outputs": [
        {
          "output_type": "execute_result",
          "data": {
            "text/plain": [
              "[<matplotlib.lines.Line2D at 0x7ff00fd11550>]"
            ]
          },
          "metadata": {},
          "execution_count": 86
        },
        {
          "output_type": "display_data",
          "data": {
            "text/plain": [
              "<Figure size 1152x648 with 1 Axes>"
            ],
            "image/png": "[encoded data removed]"
          },
          "metadata": {}
        }
      ]
    },
    {
      "cell_type": "markdown",
      "source": [
        "#P3. Algoritmo de k-means (30%)"
      ],
      "metadata": {
        "id": "YFDWxdn04pUs"
      }
    },
    {
      "cell_type": "markdown",
      "source": [
        "##P3.1 gráfica elbow o de codo (20%)"
      ],
      "metadata": {
        "id": "hv3BzfeY5uwH"
      }
    },
    {
      "cell_type": "code",
      "source": [
        "#Código del grafico de codo que me premite saber cual el la cantidad de centroides ideal\n",
        "#%% Curva elbow para determinar valor óptimo de k.\n",
        "nc = range(1, 30) # El número de iteraciones que queremos hacer.\n",
        "kmeans = [KMeans(n_clusters=i) for i in nc]\n",
        "score = [kmeans[i].fit(df_escalado).score(df_escalado) for i in range(len(kmeans))]\n",
        "score\n",
        "plt.xlabel('Número de clústeres (k)')\n",
        "plt.ylabel('Suma de los errores cuadráticos')\n",
        "plt.plot(nc,score)"
      ],
      "metadata": {
        "id": "sk_d6-fN5xzC",
        "colab": {
          "base_uri": "https://localhost:8080/",
          "height": 571
        },
        "outputId": "df464080-0333-4973-9153-cd4e94401b64"
      },
      "execution_count": null,
      "outputs": [
        {
          "output_type": "execute_result",
          "data": {
            "text/plain": [
              "[<matplotlib.lines.Line2D at 0x7ff01004e350>]"
            ]
          },
          "metadata": {},
          "execution_count": 75
        },
        {
          "output_type": "display_data",
          "data": {
            "text/plain": [
              "<Figure size 1152x648 with 1 Axes>"
            ],
            "image/png": "[encoded data removed]"
          },
          "metadata": {}
        }
      ]
    },
    {
      "cell_type": "markdown",
      "source": [
        "##P3.2 buscando los centroides (30%)"
      ],
      "metadata": {
        "id": "rvtuZpmL4wgq"
      }
    },
    {
      "cell_type": "code",
      "source": [
        "# codigo fuente para buscar centroidos\n",
        "#WCSS es la suma de cuadrados de las distancias\n",
        "X=df_homicidiosv2[[\"MUNICIPIO ACT\", \"GENERO ACT\"]]\n",
        "wcss = []\n",
        "for i in range(1, 30):\n",
        "    kmeans = KMeans(n_clusters=i, init='k-means++', max_iter=300, n_init=10, random_state=0)\n",
        "    kmeans.fit(X)\n",
        "    wcss.append(kmeans.inertia_)\n",
        "plt.plot(range(1, 30), wcss)\n",
        "plt.title('Metodo de codo')\n",
        "plt.xlabel('Numero de clusters')\n",
        "plt.ylabel('WCSS')\n",
        "plt.show()"
      ],
      "metadata": {
        "id": "agK2iQY14-3b",
        "colab": {
          "base_uri": "https://localhost:8080/",
          "height": 571
        },
        "outputId": "aeff8026-54b8-4133-ce72-e70d1c7991dd"
      },
      "execution_count": null,
      "outputs": [
        {
          "output_type": "display_data",
          "data": {
            "text/plain": [
              "<Figure size 1152x648 with 1 Axes>"
            ],
            "image/png": "[encoded data removed]"
          },
          "metadata": {}
        }
      ]
    },
    {
      "cell_type": "code",
      "source": [
        "kmeans = KMeans(n_clusters=5).fit(X)\n",
        "centroids = kmeans.cluster_centers_\n",
        "labels = kmeans.predict(X)\n",
        "print(centroids)\n",
        "print(labels)"
      ],
      "metadata": {
        "colab": {
          "base_uri": "https://localhost:8080/"
        },
        "id": "sYtxQOg_SX4Z",
        "outputId": "0051e13b-11f4-4625-9ddf-d36bc0852dd0"
      },
      "execution_count": null,
      "outputs": [
        {
          "output_type": "stream",
          "name": "stdout",
          "text": [
            "[[102.82124987   1.79255591  14.04043705]\n",
            " [517.0913811    1.79038718  14.70864857]\n",
            " [907.88405166   1.79698157  12.04716297]\n",
            " [309.27289359   1.79581258  11.82731985]\n",
            " [728.29770141   1.80919438  15.18522651]]\n",
            "[3 0 1 ... 2 2 2]\n"
          ]
        }
      ]
    },
    {
      "cell_type": "markdown",
      "source": [
        "##P3.3 Etiquetado de datos. (20%)"
      ],
      "metadata": {
        "id": "ih5SySUl6BJh"
      }
    },
    {
      "cell_type": "code",
      "source": [
        "#%% Etiquetamos nuestro dataframe.\n",
        "labels = kmeans.predict(X)   #generamos las etiquetas de cada clouster\n",
        "df_escalado['label'] = labels                   #añadimos la columna “label” a nuestro dataframe original\n",
        "\n",
        "df_escalado.head()\n"
      ],
      "metadata": {
        "id": "DqI5m0A76GM4",
        "colab": {
          "base_uri": "https://localhost:8080/",
          "height": 206
        },
        "outputId": "4a6cac1e-b9c2-41ad-ac4c-c250d45e6bb4"
      },
      "execution_count": 130,
      "outputs": [
        {
          "output_type": "execute_result",
          "data": {
            "text/plain": [
              "   DEPARTAMENTO  MUNICIPIO  CODIGO DANE  ARMAS MEDIOS  FECHA HECHO  label\n",
              "0      0.032258   0.333333     0.333333           0.0     0.415719      3\n",
              "1      0.096774   0.333333     0.000000           0.0     0.081696      0\n",
              "2      0.096774   0.333333     0.333333           0.0     0.465357      1\n",
              "3      0.225806   0.333333     0.333333           0.0     0.649431      4\n",
              "4      0.258065   0.333333     0.333333           0.0     0.011375      0"
            ],
            "text/html": [
              "\n",
              "  <div id=\"df-e91f04f3-49ac-4987-b242-89965242097f\">\n",
              "    <div class=\"colab-df-container\">\n",
              "      <div>\n",
              "<style scoped>\n",
              "    .dataframe tbody tr th:only-of-type {\n",
              "        vertical-align: middle;\n",
              "    }\n",
              "\n",
              "    .dataframe tbody tr th {\n",
              "        vertical-align: top;\n",
              "    }\n",
              "\n",
              "    .dataframe thead th {\n",
              "        text-align: right;\n",
              "    }\n",
              "</style>\n",
              "<table border=\"1\" class=\"dataframe\">\n",
              "  <thead>\n",
              "    <tr style=\"text-align: right;\">\n",
              "      <th></th>\n",
              "      <th>DEPARTAMENTO</th>\n",
              "      <th>MUNICIPIO</th>\n",
              "      <th>CODIGO DANE</th>\n",
              "      <th>ARMAS MEDIOS</th>\n",
              "      <th>FECHA HECHO</th>\n",
              "      <th>label</th>\n",
              "    </tr>\n",
              "  </thead>\n",
              "  <tbody>\n",
              "    <tr>\n",
              "      <th>0</th>\n",
              "      <td>0.032258</td>\n",
              "      <td>0.333333</td>\n",
              "      <td>0.333333</td>\n",
              "      <td>0.0</td>\n",
              "      <td>0.415719</td>\n",
              "      <td>3</td>\n",
              "    </tr>\n",
              "    <tr>\n",
              "      <th>1</th>\n",
              "      <td>0.096774</td>\n",
              "      <td>0.333333</td>\n",
              "      <td>0.000000</td>\n",
              "      <td>0.0</td>\n",
              "      <td>0.081696</td>\n",
              "      <td>0</td>\n",
              "    </tr>\n",
              "    <tr>\n",
              "      <th>2</th>\n",
              "      <td>0.096774</td>\n",
              "      <td>0.333333</td>\n",
              "      <td>0.333333</td>\n",
              "      <td>0.0</td>\n",
              "      <td>0.465357</td>\n",
              "      <td>1</td>\n",
              "    </tr>\n",
              "    <tr>\n",
              "      <th>3</th>\n",
              "      <td>0.225806</td>\n",
              "      <td>0.333333</td>\n",
              "      <td>0.333333</td>\n",
              "      <td>0.0</td>\n",
              "      <td>0.649431</td>\n",
              "      <td>4</td>\n",
              "    </tr>\n",
              "    <tr>\n",
              "      <th>4</th>\n",
              "      <td>0.258065</td>\n",
              "      <td>0.333333</td>\n",
              "      <td>0.333333</td>\n",
              "      <td>0.0</td>\n",
              "      <td>0.011375</td>\n",
              "      <td>0</td>\n",
              "    </tr>\n",
              "  </tbody>\n",
              "</table>\n",
              "</div>\n",
              "      <button class=\"colab-df-convert\" onclick=\"convertToInteractive('df-e91f04f3-49ac-4987-b242-89965242097f')\"\n",
              "              title=\"Convert this dataframe to an interactive table.\"\n",
              "              style=\"display:none;\">\n",
              "        \n",
              "  <svg xmlns=\"http://www.w3.org/2000/svg\" height=\"24px\"viewBox=\"0 0 24 24\"\n",
              "       width=\"24px\">\n",
              "    <path d=\"M0 0h24v24H0V0z\" fill=\"none\"/>\n",
              "    <path d=\"M18.56 5.44l.94 2.06.94-2.06 2.06-.94-2.06-.94-.94-2.06-.94 2.06-2.06.94zm-11 1L8.5 8.5l.94-2.06 2.06-.94-2.06-.94L8.5 2.5l-.94 2.06-2.06.94zm10 10l.94 2.06.94-2.06 2.06-.94-2.06-.94-.94-2.06-.94 2.06-2.06.94z\"/><path d=\"M17.41 7.96l-1.37-1.37c-.4-.4-.92-.59-1.43-.59-.52 0-1.04.2-1.43.59L10.3 9.45l-7.72 7.72c-.78.78-.78 2.05 0 2.83L4 21.41c.39.39.9.59 1.41.59.51 0 1.02-.2 1.41-.59l7.78-7.78 2.81-2.81c.8-.78.8-2.07 0-2.86zM5.41 20L4 18.59l7.72-7.72 1.47 1.35L5.41 20z\"/>\n",
              "  </svg>\n",
              "      </button>\n",
              "      \n",
              "  <style>\n",
              "    .colab-df-container {\n",
              "      display:flex;\n",
              "      flex-wrap:wrap;\n",
              "      gap: 12px;\n",
              "    }\n",
              "\n",
              "    .colab-df-convert {\n",
              "      background-color: #E8F0FE;\n",
              "      border: none;\n",
              "      border-radius: 50%;\n",
              "      cursor: pointer;\n",
              "      display: none;\n",
              "      fill: #1967D2;\n",
              "      height: 32px;\n",
              "      padding: 0 0 0 0;\n",
              "      width: 32px;\n",
              "    }\n",
              "\n",
              "    .colab-df-convert:hover {\n",
              "      background-color: #E2EBFA;\n",
              "      box-shadow: 0px 1px 2px rgba(60, 64, 67, 0.3), 0px 1px 3px 1px rgba(60, 64, 67, 0.15);\n",
              "      fill: #174EA6;\n",
              "    }\n",
              "\n",
              "    [theme=dark] .colab-df-convert {\n",
              "      background-color: #3B4455;\n",
              "      fill: #D2E3FC;\n",
              "    }\n",
              "\n",
              "    [theme=dark] .colab-df-convert:hover {\n",
              "      background-color: #434B5C;\n",
              "      box-shadow: 0px 1px 3px 1px rgba(0, 0, 0, 0.15);\n",
              "      filter: drop-shadow(0px 1px 2px rgba(0, 0, 0, 0.3));\n",
              "      fill: #FFFFFF;\n",
              "    }\n",
              "  </style>\n",
              "\n",
              "      <script>\n",
              "        const buttonEl =\n",
              "          document.querySelector('#df-e91f04f3-49ac-4987-b242-89965242097f button.colab-df-convert');\n",
              "        buttonEl.style.display =\n",
              "          google.colab.kernel.accessAllowed ? 'block' : 'none';\n",
              "\n",
              "        async function convertToInteractive(key) {\n",
              "          const element = document.querySelector('#df-e91f04f3-49ac-4987-b242-89965242097f');\n",
              "          const dataTable =\n",
              "            await google.colab.kernel.invokeFunction('convertToInteractive',\n",
              "                                                     [key], {});\n",
              "          if (!dataTable) return;\n",
              "\n",
              "          const docLinkHtml = 'Like what you see? Visit the ' +\n",
              "            '<a target=\"_blank\" href=https://colab.research.google.com/notebooks/data_table.ipynb>data table notebook</a>'\n",
              "            + ' to learn more about interactive tables.';\n",
              "          element.innerHTML = '';\n",
              "          dataTable['output_type'] = 'display_data';\n",
              "          await google.colab.output.renderOutput(dataTable, element);\n",
              "          const docLink = document.createElement('div');\n",
              "          docLink.innerHTML = docLinkHtml;\n",
              "          element.appendChild(docLink);\n",
              "        }\n",
              "      </script>\n",
              "    </div>\n",
              "  </div>\n",
              "  "
            ]
          },
          "metadata": {},
          "execution_count": 130
        }
      ]
    },
    {
      "cell_type": "markdown",
      "source": [
        "##P3.4 Representación gráfica de los clústeres k-means.(20%)\n",
        "\n",
        "---\n",
        "Una vez con los datos etiquetados, generar gráficamente en dos dimensiones el clustering realizado por k-means, usar dos variables\n"
      ],
      "metadata": {
        "id": "gh5amb1e6c-i"
      }
    },
    {
      "cell_type": "code",
      "source": [
        "#%% Plot k-means clustering.\n",
        "colores=['red','green','blue','yellow','fuchsia']\n",
        "asignar=[]\n",
        "for row in labels:\n",
        "     asignar.append(colores[row])\n",
        "plt.scatter(x, y, c=asignar, s=1)\n",
        "plt.scatter(centroids[:, 0], centroids[:, 1], marker='*', c='black', s=20) # Marco centroides.\n",
        "plt.xlabel('Municipio')\n",
        "plt.ylabel('Genero')\n",
        "plt.title('Homicidios stocks k-means clustering')\n",
        "plt.show()"
      ],
      "metadata": {
        "id": "N8l8FcVn6tlc",
        "colab": {
          "base_uri": "https://localhost:8080/",
          "height": 571
        },
        "outputId": "6e0a415b-3c1c-4dc1-83db-f943678ae35d"
      },
      "execution_count": 131,
      "outputs": [
        {
          "output_type": "display_data",
          "data": {
            "text/plain": [
              "<Figure size 1152x648 with 1 Axes>"
            ],
            "image/png": "[encoded data removed]"
          },
          "metadata": {}
        }
      ]
    },
    {
      "cell_type": "markdown",
      "source": [
        "##P3.5 exportar el Dataset con los labels (10%)"
      ],
      "metadata": {
        "id": "ZtY9z1PLny0M"
      }
    },
    {
      "cell_type": "code",
      "source": [
        "#salvamos el dataFrame \n",
        "df_escalado.to_csv('df_escalado.csv', index_label='row')"
      ],
      "metadata": {
        "id": "8Hg0Jr1Nn3QW"
      },
      "execution_count": 132,
      "outputs": []
    },
    {
      "cell_type": "markdown",
      "source": [
        "#P4.algoritmo de machine Learning  (30%)\n",
        "\n",
        "---\n",
        "\n",
        "Seleccione un algoritmo (regresión lineal ó regresión logistica ó arboles de clasificación) que tenga la mejor inferencia"
      ],
      "metadata": {
        "id": "OJNj9AJa6v8w"
      }
    },
    {
      "cell_type": "markdown",
      "source": [
        "##P4.1 Preparación de los datos para el entrenamiento del modelo (10%)"
      ],
      "metadata": {
        "id": "o_imwtlK7R6L"
      }
    },
    {
      "cell_type": "code",
      "source": [
        ""
      ],
      "metadata": {
        "id": "SD6oBdDT7VQz"
      },
      "execution_count": null,
      "outputs": []
    },
    {
      "cell_type": "markdown",
      "source": [
        "##P4.2 Dividir los datos en conjuntos de entrenamiento (X %) y pruebas (X %) (30%)"
      ],
      "metadata": {
        "id": "1Kzm6ymO7ZBR"
      }
    },
    {
      "cell_type": "code",
      "source": [
        "# x = df_colombiaV2.iloc[:, :11].values\n",
        "# y = df_colombiaV2.iloc[:, 11].values\n",
        "\n",
        "# x_train, x_test,y_train, y_test = train_test_split(x,y,random_state=42,test_size=0.30)\n"
      ],
      "metadata": {
        "id": "Ei5EjP3W7fpq"
      },
      "execution_count": null,
      "outputs": []
    },
    {
      "cell_type": "markdown",
      "source": [
        "##P4.3 Entrenando el modelo (20%)"
      ],
      "metadata": {
        "id": "HvMgD2e37jXH"
      }
    },
    {
      "cell_type": "code",
      "source": [
        "#solver = 'lbfgs'\n",
        "#solver = 'newton-cg'\n",
        "# modelIA = LogisticRegression(multi_class= 'multinomial',solver = 'lbfgs', max_iter=400,penalty='l2',c=1.0)\n",
        "# modelIA.fit(x_train,y_train)"
      ],
      "metadata": {
        "id": "xrzCaTxv7pwY"
      },
      "execution_count": null,
      "outputs": []
    },
    {
      "cell_type": "markdown",
      "source": [
        "##P4.4 Evaluación del modelo (40%)\n"
      ],
      "metadata": {
        "id": "sGusNrgU7qLS"
      }
    },
    {
      "cell_type": "code",
      "source": [
        ""
      ],
      "metadata": {
        "id": "I3OC2FTE7xLg"
      },
      "execution_count": null,
      "outputs": []
    },
    {
      "cell_type": "markdown",
      "source": [
        "##P4.5 la predicción es superior a 80%???"
      ],
      "metadata": {
        "id": "gj63LEmx7xzA"
      }
    }
  ]
}