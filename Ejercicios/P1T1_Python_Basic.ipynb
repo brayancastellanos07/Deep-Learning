{
  "nbformat": 4,
  "nbformat_minor": 0,
  "metadata": {
    "colab": {
      "name": "P1T1_Python_Basic.ipynb",
      "provenance": [],
      "collapsed_sections": [],
      "toc_visible": true
    },
    "kernelspec": {
      "name": "python3",
      "display_name": "Python 3"
    },
    "language_info": {
      "name": "python"
    }
  },
  "cells": [
    {
      "cell_type": "markdown",
      "source": [
        "#Metadata:\n",
        "------\n",
        "*   @Author: Brayan Alberto Castellanos Bernal \n",
        "*   @Date: 2022/02/12\n",
        "*   @Descripction:  este es el primer ejercicio  en python\n",
        "\n",
        "\n",
        "\n",
        "\n"
      ],
      "metadata": {
        "id": "2qdopYW8y8wL"
      }
    },
    {
      "cell_type": "markdown",
      "source": [
        "# Ejercicios Basicos "
      ],
      "metadata": {
        "id": "OrIncfbvz7X_"
      }
    },
    {
      "cell_type": "markdown",
      "source": [
        "## 1: Ejercicio productos + IVA"
      ],
      "metadata": {
        "id": "Ngc6Jcu70Wzp"
      }
    },
    {
      "cell_type": "code",
      "source": [
        "prod1 = int (input(\"Input 1 product: \"))\n",
        "prod2 = int (input(\"Input 2 product: \"))\n",
        "prod3 = int (input(\"Input 3 product: \"))\n",
        "prod4 = int (input(\"Input 4 product: \"))\n",
        "prod5 = int (input(\"Input 5 product: \"))\n",
        "Suma  = (prod1 + prod2 + prod3 + prod4 + prod3 )\n",
        "Iva = Suma * 0.19\n",
        "Total = Suma + Iva\n",
        "\n",
        "print(\"Valor bruto\", Suma,\"\\n iva\", Iva, \"\\n Total:\", Total)"
      ],
      "metadata": {
        "id": "JUCXZIBd0tGn"
      },
      "execution_count": null,
      "outputs": []
    },
    {
      "cell_type": "markdown",
      "source": [
        "## Versión Python"
      ],
      "metadata": {
        "id": "9j1DrpHt30hS"
      }
    },
    {
      "cell_type": "code",
      "source": [
        "prod1, prod2, prod3, prod4, prod5 = input (\"input 1°,2°,3°,4°,5° product with , separate\").split(\",\")\n",
        "suma = (prod1 + prod2) \n",
        "print(\"Valor bruto \"+str(suma))"
      ],
      "metadata": {
        "id": "0g6N6RSI35lu",
        "colab": {
          "base_uri": "https://localhost:8080/"
        },
        "outputId": "a5de987c-8c9f-4559-b9fe-25c7cbb5932d"
      },
      "execution_count": null,
      "outputs": [
        {
          "output_type": "stream",
          "name": "stdout",
          "text": [
            "input 1°,2°,3°,4°,5° product with , separate2,2,2,2,2\n",
            "Valor bruto 22\n"
          ]
        }
      ]
    },
    {
      "cell_type": "markdown",
      "source": [
        "##Ejercicio de suma de numeros normal \n"
      ],
      "metadata": {
        "id": "JmSz7Wxj-vc3"
      }
    },
    {
      "cell_type": "code",
      "source": [
        "num1 = int(input(\"Ingrese el Primer nuermo \"))\n",
        "num2 = int(input(\"Ingrese el Segundo nuermo \"))\n",
        "num3 = int(input(\"Ingrese el Tercero nuermo \"))\n",
        "promedio = (num1+num2+num3) / 3\n",
        "if num1 > num2 and num1 > num3:\n",
        "  print(\"El numero mayor es \",num1)\n",
        "elif num2 > num1 and num2 > num3:\n",
        "  print(\"El numero mayor es \",num2)\n",
        "else: \n",
        "  print(\"El numero mayor es\", num3) \n",
        "\n",
        "if num1 < num2 and num1 < num3:\n",
        "  print(\"El numero menor es \",num1)\n",
        "elif num2 < num1 and num2 < num3:\n",
        "  print(\"El numero menor es \",num2)\n",
        "else: \n",
        "  print(\"El numero menor es\", num3)       \n",
        "print(\"El promedio de los tres numeros es: \",promedio,\"\")"
      ],
      "metadata": {
        "id": "MeUY_NtT6Bz7"
      },
      "execution_count": null,
      "outputs": []
    },
    {
      "cell_type": "markdown",
      "source": [
        "Ejercicio suma de numeros con python"
      ],
      "metadata": {
        "id": "ItApq5e1_FXY"
      }
    },
    {
      "cell_type": "code",
      "source": [
        "var1, var2, var3 = input (\"ingrese tres numéros separados por coma:\").split(\",\")\n",
        "print(\"El mayor es:\"+str(max(int(var1),int(var2),int(var3)))+\" El menor es: \"+ str(min(int(var1),int(var2),int(var3))))"
      ],
      "metadata": {
        "colab": {
          "base_uri": "https://localhost:8080/"
        },
        "id": "N-I6cxRC69KX",
        "outputId": "57ab8f01-2cab-44cd-8bab-9e727010cc25"
      },
      "execution_count": null,
      "outputs": [
        {
          "output_type": "stream",
          "name": "stdout",
          "text": [
            "ingrese tres numéros separados por coma:1,4,9\n",
            "El mayor es:9El menor es: 1\n"
          ]
        }
      ]
    },
    {
      "cell_type": "markdown",
      "source": [
        "Generar de froma aleatoria las notas entre 00 y 5.0 de 40 estudinates de una asignatura, con esa informacion calcular: \n",
        "cuantos estudiantes perdieron (Menor o igual a 2.9)\n",
        "cuantos pasaron (30 mas)\n",
        "cual fue la nota promedio"
      ],
      "metadata": {
        "id": "B2eGJ24bG59F"
      }
    },
    {
      "cell_type": "code",
      "source": [
        "from random import randint\n",
        "Notas = [randint(0.0,5.0) for x in range(randint(0,40))]\n",
        "perdieron = [minimo for minimo in Notas if minimo <= 2.9]\n",
        "pasaron = [maximo for maximo in Notas if maximo >= 3] \n",
        "print(\"Notas: \"+ str(Notas) +\" Perdieron: \" + str(len(perdieron)) + \" Pasaron: \" +str(len(pasaron)) + \" El promedio es: \" +str(sum(Notas)/len(Notas)) )"
      ],
      "metadata": {
        "colab": {
          "base_uri": "https://localhost:8080/"
        },
        "id": "qZnqbv00HRwZ",
        "outputId": "d9c9882a-e6ff-4eb4-8d0c-28309aa929e4"
      },
      "execution_count": null,
      "outputs": [
        {
          "output_type": "stream",
          "name": "stdout",
          "text": [
            "Notas: [5, 4, 1, 5, 4, 5, 5, 1, 5, 0, 4, 5, 0] Perdieron: 4 Pasaron: 9 El promedio es: 3.3846153846153846\n"
          ]
        }
      ]
    },
    {
      "cell_type": "markdown",
      "source": [
        "##Diseñar un programa en PYTHON donde se ingresen N cantidad de numero y me imprima la suma "
      ],
      "metadata": {
        "id": "Xcq4cbcd7Nad"
      }
    },
    {
      "cell_type": "markdown",
      "source": [
        "Forma normal"
      ],
      "metadata": {
        "id": "jlkNeRbV8Nye"
      }
    },
    {
      "cell_type": "code",
      "source": [
        "tot= int(input(\"Ingrese la cantidad N de nueros: \"))\n",
        "suma=0\n",
        "for i in range(0,tot):\n",
        "  suma+=int(input(\"Ingrese el valor del Num\"+str(i)+\"\"))\n",
        "  print(\"El total es: \"+str(suma))"
      ],
      "metadata": {
        "id": "Sdh28fL37XUl"
      },
      "execution_count": null,
      "outputs": []
    },
    {
      "cell_type": "markdown",
      "source": [
        "Con Python"
      ],
      "metadata": {
        "id": "kvIzQNs78RJ9"
      }
    },
    {
      "cell_type": "code",
      "source": [
        "suma=0 \n",
        "for i in range(0,int(input(\"Ingrese la cantidad N de números: \"))):\n",
        "  suma+=int(input(\"ungrese el valor del num \"+str(i)+\"\"))\n",
        "print(\"El total es: \"+str(suma))"
      ],
      "metadata": {
        "id": "GECzSiqA8Vmt"
      },
      "execution_count": null,
      "outputs": []
    },
    {
      "cell_type": "markdown",
      "source": [
        "## imprimir los números pares existente entre dos números"
      ],
      "metadata": {
        "id": "Ez27xHEU9Fi-"
      }
    },
    {
      "cell_type": "code",
      "source": [
        "#Método clásico\n",
        "inicio=int(input(\"Número minimo: \"))\n",
        "fin=int(input(\"Número final: \"))\n",
        "for i in range(inicio,fin):\n",
        "  if((i%2)==0):\n",
        "    print(\"El número par: \"+ str(i))"
      ],
      "metadata": {
        "id": "WKaEa8Gi9Lkf"
      },
      "execution_count": null,
      "outputs": []
    },
    {
      "cell_type": "code",
      "source": [
        "#Método python minimalista\n",
        "for i in range(int(input(\"Número minimo: \")),int(input(\"Número final: \"))):\n",
        "  if((i%2)==0):print(\"El número par: \" +str(i))"
      ],
      "metadata": {
        "id": "tlHBW2dV9r_n"
      },
      "execution_count": null,
      "outputs": []
    },
    {
      "cell_type": "markdown",
      "source": [
        "## 2: Manejo de listas \n",
        "Diseñe un programa que me visualice dos listados concatenados: \n",
        "\n",
        "uno dode los numero sean de 1 a 12. Otro listado donde los números sean del 12 al 1"
      ],
      "metadata": {
        "id": "I35QOmHU-TXh"
      }
    },
    {
      "cell_type": "code",
      "source": [
        "# Método clásico\n",
        "rango1=list(range(1,13))\n",
        "rango2=list(range(12,0,-1))\n",
        "print(rango1+rango2)"
      ],
      "metadata": {
        "colab": {
          "base_uri": "https://localhost:8080/"
        },
        "id": "EuZQxV1j-kFH",
        "outputId": "f449cfbf-35cd-4d59-ba4d-3497f8bf08ae"
      },
      "execution_count": null,
      "outputs": [
        {
          "output_type": "stream",
          "name": "stdout",
          "text": [
            "[1, 2, 3, 4, 5, 6, 7, 8, 9, 10, 11, 12, 12, 11, 10, 9, 8, 7, 6, 5, 4, 3, 2, 1]\n"
          ]
        }
      ]
    },
    {
      "cell_type": "markdown",
      "source": [
        "## 3: Librerías Básicas\n",
        "\n",
        "Librerías de números randomicos"
      ],
      "metadata": {
        "id": "sjEUnuwp_ETO"
      }
    },
    {
      "cell_type": "code",
      "source": [
        "import random \n",
        "Var1= random.randrange(101)\n",
        "print(Var1)"
      ],
      "metadata": {
        "colab": {
          "base_uri": "https://localhost:8080/"
        },
        "id": "2SzFYTUo_OQI",
        "outputId": "f964c495-b8cc-4dd6-b584-d5eb8b5d3bfa"
      },
      "execution_count": null,
      "outputs": [
        {
          "output_type": "stream",
          "name": "stdout",
          "text": [
            "54\n"
          ]
        }
      ]
    },
    {
      "cell_type": "markdown",
      "source": [
        "Diseñe un programa que me visualice un listado de 10 números aleatorios entre 1 y 100"
      ],
      "metadata": {
        "id": "EZLbc-3o_cmN"
      }
    },
    {
      "cell_type": "code",
      "source": [
        "## Método clásico\n",
        "\n",
        "import random\n",
        "lista=[random.randrange(10) for i in range(10)]\n",
        "print(lista)\n"
      ],
      "metadata": {
        "colab": {
          "base_uri": "https://localhost:8080/"
        },
        "id": "OKxQjEFo_dP-",
        "outputId": "22c0626b-b77c-4631-9552-34dba27dbb6e"
      },
      "execution_count": null,
      "outputs": [
        {
          "output_type": "stream",
          "name": "stdout",
          "text": [
            "[1, 5, 6, 3, 5, 3, 8, 7, 9, 8]\n"
          ]
        }
      ]
    },
    {
      "cell_type": "code",
      "source": [
        "## Método Python minimalista\n",
        "for i in range(10): print(random.randrange(100))"
      ],
      "metadata": {
        "colab": {
          "base_uri": "https://localhost:8080/"
        },
        "id": "rNYRCGlB_5ie",
        "outputId": "64fe63dc-3aa7-48e9-d11c-f231d6b68508"
      },
      "execution_count": null,
      "outputs": [
        {
          "output_type": "stream",
          "name": "stdout",
          "text": [
            "19\n",
            "3\n",
            "9\n",
            "92\n",
            "36\n",
            "55\n",
            "39\n",
            "75\n",
            "45\n",
            "16\n"
          ]
        }
      ]
    },
    {
      "cell_type": "markdown",
      "source": [
        "## 4: Combinando todo lo anterios \n",
        "\n",
        "Diseñe un programa que me genere un listado con las edades de N habitantes de una ciudad, donde la cantidad de habitantes sea un valor randomico entre 1000 y 50000 y la edad de cada persona también debe ser un randomico entre 1 y 100 años. Al final del el programa me debe indicar cuanto es la población total y el porcentaje de cuantos son mayores de edad (>=18) y cuantos no"
      ],
      "metadata": {
        "id": "NlN_eEDpAf59"
      }
    },
    {
      "cell_type": "code",
      "source": [
        "from random import randint\n",
        "censo= [randint(1,100)for x in range(randint(10000,70000))]\n",
        "Mmenor18=[edad for edad in censo if edad <= 17]\n",
        "print(\"Ciudad: habitantes:\"+str(len(censo))+\", vontanes(mayores de 18) ->\"+ str(len(Mmenor18))+\" es el \" + str(len(Mmenor18)*100/len(censo))+\"%\" )\n"
      ],
      "metadata": {
        "colab": {
          "base_uri": "https://localhost:8080/"
        },
        "id": "ZdqFjnzuAq1V",
        "outputId": "60b87ecb-3494-494e-b185-222dacfe9f75"
      },
      "execution_count": null,
      "outputs": [
        {
          "output_type": "stream",
          "name": "stdout",
          "text": [
            "Ciudad: habitantes:48743, vontanes(mayores de 18) ->8344 es el 17.118355456168064%\n"
          ]
        }
      ]
    },
    {
      "cell_type": "markdown",
      "source": [
        "## 5: Usando librería numpy\n",
        "\n",
        "Diseñe un programa (máximo 5 líneas) donde 6 candidat@s se disputan la alcaldía (ayuntamiento municipal), los candidat@s de los siguientes partidos:\n",
        "\n",
        "1 – socio-democratico 2 – Ultra-derechista 3 – primero los ricos 4 – Centro demoniaco 5 – Cambio invertido 6 – Alianza queremos más pobres\n",
        "\n",
        "Los votos de cada candidato son generados de forma aleatoria entre 1 y 25000 votos máximo, el software debe determinar quién fue el ganador. (utilicé la librería numpy)"
      ],
      "metadata": {
        "id": "sJtjOC7gB0c-"
      }
    },
    {
      "cell_type": "code",
      "source": [
        "import numpy as np\n",
        "from random import randint\n",
        "matriz = np.array([[i+1,randint(1,20000)] for i in range(6)])\n",
        "ganador = np.where(matriz[:,1] == matriz[:,1].max())\n",
        "print(\"las votaciones:\\n\"+str(matriz)+\"\\n El ganador es: \"+str(matriz[ganador[0]]))"
      ],
      "metadata": {
        "colab": {
          "base_uri": "https://localhost:8080/"
        },
        "id": "rhGTWJavCCMW",
        "outputId": "ce4e9242-fbda-4089-990b-2d9e368edfc8"
      },
      "execution_count": null,
      "outputs": [
        {
          "output_type": "stream",
          "name": "stdout",
          "text": [
            "las votaciones:\n",
            "[[    1  1642]\n",
            " [    2  1679]\n",
            " [    3  6859]\n",
            " [    4 15895]\n",
            " [    5 17194]\n",
            " [    6  3556]]\n",
            " El ganador es: [[    5 17194]]\n"
          ]
        }
      ]
    },
    {
      "cell_type": "markdown",
      "source": [
        "Diseñe un programa donde 6 candidat@s se presentan a la disputa para la Gobernación del departamento (estado), los candid@tos de los siguientes partidos:\n",
        "\n",
        "1 – socio-democratico 2 – Ultra-derechista 3 – primero los ricos 4 – Centro demoniaco 5 – Cambio invertido 6 – Alianza queremos más pobres\n",
        "\n",
        "Los votos de cada candidat@s son generados de forma aleatoria entre 1 y 4500 votos máximo para cada uno de los 123 municipios del departamento, el software debe determinar quién fue ganador@.\n",
        "\n",
        "Nota: Creamos una matriz llamada votos, compuesta por 123 filas (municipios) y 6 columnas (candidat@s) y cuyo valor de cada celda sea un randomico entre 1 y 3000"
      ],
      "metadata": {
        "id": "6lgqY-P8CRim"
      }
    },
    {
      "cell_type": "code",
      "source": [
        "import numpy as np; from random import randint\n",
        "votos_20xx = np.random.randint(3000,size=(123,6))\n",
        "tot_votos = np.array([[candidato+1,votos_20xx[:,candidato].sum()] for candidato in range(len(votos_20xx[0]))])\n",
        "ganador = np.where(tot_votos == tot_votos[:,1].max())\n",
        "print(\"El candidato ganador fue el: \"+str(tot_votos[ganador[0]])+\"\\n El total de votos por candidato es \\n\"+str(tot_votos))"
      ],
      "metadata": {
        "colab": {
          "base_uri": "https://localhost:8080/"
        },
        "id": "41G7jqDcCSnm",
        "outputId": "2277d0ed-1428-46ed-e70f-e031b8c76079"
      },
      "execution_count": null,
      "outputs": [
        {
          "output_type": "stream",
          "name": "stdout",
          "text": [
            "El candidato ganador fue el: [[     5 193762]]\n",
            " El total de votos por candidato es \n",
            "[[     1 184686]\n",
            " [     2 184559]\n",
            " [     3 184059]\n",
            " [     4 173155]\n",
            " [     5 193762]\n",
            " [     6 186479]]\n"
          ]
        }
      ]
    },
    {
      "cell_type": "markdown",
      "source": [
        "Crear un programa en PYTHON para simular una carrera de formula uno, en donde: Existen 5 vehículos\n",
        "\n",
        "Renault Ferrari Mercedez, Ford Red bull\n",
        "\n",
        "La carrera esta diseñada para 4 vueltas donde el tiempo mínimo es 8.2 segundos y el máximo es 10 segundos.\n",
        "\n",
        "Diseñe la matriz de 5 x 4 donde determine cual es el vehículo ganador donde los tiempos de cada vehículo por vuelta se un randomico."
      ],
      "metadata": {
        "id": "m6d7-gM3CU3U"
      }
    },
    {
      "cell_type": "code",
      "source": [
        "import numpy as np\n",
        "matriz = np.random.uniform(8.2,10,size=(4,5))\n",
        "tot_vueltas = np.array([[corredor+1,matriz[:,corredor].sum()] for corredor in range(len(matriz[0]))])\n",
        "ganador=np.where(matriz == matriz[:,1].min())\n",
        "print (\"Resultados de la carrera:\\n\"+str(matriz)+\"\\nEl Piloto ganador fue el: \"+str(tot_vueltas[ganador[0]]))"
      ],
      "metadata": {
        "colab": {
          "base_uri": "https://localhost:8080/"
        },
        "id": "Q9qrt2UaCYtO",
        "outputId": "1ee2526e-300b-4d0f-f290-9a930f2f2bf2"
      },
      "execution_count": null,
      "outputs": [
        {
          "output_type": "stream",
          "name": "stdout",
          "text": [
            "Resultados de la carrera:\n",
            "[[9.95357527 9.53087526 9.69004091 9.02139424 8.78928189]\n",
            " [9.47218627 9.71749698 9.12234371 8.91082673 9.11867983]\n",
            " [9.69639728 9.18281322 8.98866969 8.98002568 9.04262496]\n",
            " [9.58457601 9.12980124 9.30085001 9.68465365 8.73481515]]\n",
            "El Piloto ganador fue el: [[ 4.         36.59690031]]\n"
          ]
        }
      ]
    },
    {
      "cell_type": "markdown",
      "source": [
        "##6: Graficando valores (matplotlib)"
      ],
      "metadata": {
        "id": "4P_WVrReCiZO"
      }
    },
    {
      "cell_type": "code",
      "source": [
        "import matplotlib.pyplot as plt\n",
        "plt.plot([10, 20, 40, 20])\n",
        "plt.ylabel(\"graficos basico\")\n",
        "plt.show()"
      ],
      "metadata": {
        "colab": {
          "base_uri": "https://localhost:8080/",
          "height": 265
        },
        "id": "4jes-pnxCkGl",
        "outputId": "82791af4-f738-4f1e-e7d1-da790eae7c6e"
      },
      "execution_count": null,
      "outputs": [
        {
          "output_type": "display_data",
          "data": {
            "image/png": "[encoded data removed]",
            "text/plain": [
              "<Figure size 432x288 with 1 Axes>"
            ]
          },
          "metadata": {
            "needs_background": "light"
          }
        }
      ]
    },
    {
      "cell_type": "code",
      "source": [
        "import matplotlib.pyplot as plt\n",
        "import random\n",
        "lista= [ random.randrange(10) for i in range(10)]\n",
        "plt.plot(lista,'ro')\n",
        "plt.ylabel(\"números randomicos de 0 a 10\")\n",
        "plt.show()"
      ],
      "metadata": {
        "colab": {
          "base_uri": "https://localhost:8080/",
          "height": 265
        },
        "id": "Pje7WfEsCo5E",
        "outputId": "d5149cf6-61d9-4783-82d0-cbeb4f419157"
      },
      "execution_count": null,
      "outputs": [
        {
          "output_type": "display_data",
          "data": {
            "image/png": "[encoded data removed]",
            "text/plain": [
              "<Figure size 432x288 with 1 Axes>"
            ]
          },
          "metadata": {
            "needs_background": "light"
          }
        }
      ]
    },
    {
      "cell_type": "markdown",
      "source": [
        "Graficando los candidat@s a la alcaldía"
      ],
      "metadata": {
        "id": "8v0qem4hCuc9"
      }
    },
    {
      "cell_type": "code",
      "source": [
        "import numpy as np ; from random import randint; import matplotlib.pyplot as plt\n",
        "matriz = np.array([[i+1, randint(1,20000)] for i in range(6)]) \n",
        "ganador= np.where(matriz == matriz[:,1].max())\n",
        "#Diagrama de Barras\n",
        "fig = plt.figure('Gráfica de barras') #Generacion de ventana\n",
        "ax = fig.add_subplot(1,1,1) #Un eje coordenado \n",
        "nombres = ['1 – socio-democratico','2 – Ultra-derechista','3 – primero los ricos','4 – Centro demoniaco','5 – Cambio invertido','6 – Alianza queremos más pobres']#Arreglo con los partidos\n",
        "ax.bar(range(len(matriz)),matriz[:,1])#Funcion var para diagramar, con parametros de votos y puntos a ubicar\n",
        "ax.set_xticks(range(len(matriz[:,1]))) #Numero de puntos a ubicar\n",
        "ax.set_xticklabels(nombres,rotation='vertical') #Agregar etiquetas a cada punto ubicado en el eje x\n",
        "plt.ylabel(\"Total votos\");plt.xlabel(\"Candidatos\")\n",
        "plt.show()"
      ],
      "metadata": {
        "colab": {
          "base_uri": "https://localhost:8080/",
          "height": 437
        },
        "id": "cByXt2tVCvBN",
        "outputId": "103a2dbf-88db-48af-f677-7206827c143f"
      },
      "execution_count": null,
      "outputs": [
        {
          "output_type": "display_data",
          "data": {
            "image/png": "[encoded data removed]",
            "text/plain": [
              "<Figure size 432x288 with 1 Axes>"
            ]
          },
          "metadata": {
            "needs_background": "light"
          }
        }
      ]
    },
    {
      "cell_type": "markdown",
      "source": [
        "P1Tx (carrera de formular 1) – dispersión (colores por cada vehículo)"
      ],
      "metadata": {
        "id": "pq7rfWatC01d"
      }
    },
    {
      "cell_type": "code",
      "source": [
        "import numpy as np\n",
        "matriz = np.random.uniform(8.2,10,size=(4,5))\n",
        "tot_vueltas = np.array([[corredor+1,matriz[:,corredor].sum()] for corredor in range(len(matriz[0]))])\n",
        "ganador = np.where(matriz == matriz[:,1].min())\n",
        "print(\" El tiempo total por cada corredor fue: \" + \"\\n\" + str(tot_vueltas) + \"\\n\" + \" El corrdor ganador fue el numero: \" + str(tot_vueltas[ganador[0]]))\n",
        "#Diagrama de dispersion\n",
        "x = tot_vueltas[:,1]\n",
        "y = tot_vueltas[:,0]\n",
        "fig = plt.figure()\n",
        "fig.add_subplot(111)\n",
        "plt.xlabel('Corredores')\n",
        "plt.ylabel('Total tiempo')\n",
        "plt.scatter(y, x, c=x)\n",
        "plt.show()"
      ],
      "metadata": {
        "colab": {
          "base_uri": "https://localhost:8080/",
          "height": 401
        },
        "id": "9dkRnEQPCwlc",
        "outputId": "84783b47-474b-4983-8268-aa2838e56606"
      },
      "execution_count": null,
      "outputs": [
        {
          "output_type": "stream",
          "name": "stdout",
          "text": [
            " El tiempo total por cada corredor fue: \n",
            "[[ 1.         36.9006242 ]\n",
            " [ 2.         38.26628817]\n",
            " [ 3.         38.01416587]\n",
            " [ 4.         36.44048385]\n",
            " [ 5.         33.54364759]]\n",
            " El corrdor ganador fue el numero: [[ 3.         38.01416587]]\n"
          ]
        },
        {
          "output_type": "display_data",
          "data": {
            "image/png": "[encoded data removed]",
            "text/plain": [
              "<Figure size 432x288 with 1 Axes>"
            ]
          },
          "metadata": {
            "needs_background": "light"
          }
        }
      ]
    }
  ]
}