{
  "cells": [
    {
      "cell_type": "markdown",
      "source": [
        "# DESCRIPTION\n",
        "\n",
        "*   @Author:  Brayan Alberto Castellanso Bernal \n",
        "*   @Date: 2022/03/18 \n",
        "*   Description: In this notebook we are going to apply the algorithm on a data set of Tesla shares on the United States stock market, where we will find:\n",
        "\n",
        "    *   The CLOSE signal (daily closing price)\n",
        "    *   The VOLUME signal (number of shares that have changed hands over that period of time).\n",
        "\n",
        "\n",
        "\n",
        "\n",
        "\n"
      ],
      "metadata": {
        "id": "mbwcs6mk3OSu"
      }
    },
    {
      "cell_type": "markdown",
      "source": [
        "#DATOS DE MERCADO DE VALORES DE MICROSOFT\n",
        "\n",
        "Importando las librerias "
      ],
      "metadata": {
        "id": "Y-7PITbX3xfj"
      }
    },
    {
      "cell_type": "code",
      "source": [
        "import numpy as np\n",
        "import pandas as pd\n",
        "from sklearn.cluster import KMeans\n",
        "from sklearn import preprocessing  #para normalizar los datos antes de aplicar al algoritmo\n",
        "from sklearn.metrics import pairwise_distances_argmin_min\n",
        "\n",
        "import matplotlib.pyplot as plt\n",
        "import seaborn as sb\n",
        "from mpl_toolkits.mplot3d import Axes3D\n",
        "\n",
        "#configuraciones basicas para PLT\n",
        "%matplotlib inline\n",
        "plt.rcParams['figure.figsize'] = (16, 9)\n",
        "plt.style.use('ggplot')"
      ],
      "metadata": {
        "id": "yOhbPe2m4fY_"
      },
      "execution_count": 30,
      "outputs": []
    },
    {
      "cell_type": "markdown",
      "source": [
        "#Descargando data usando Web-scrawping"
      ],
      "metadata": {
        "id": "HZENW5-I4kR-"
      }
    },
    {
      "cell_type": "code",
      "source": [
        "#UrlWeb=\"https://es.wikipedia.org/wiki/Departamentos_de_Colombia\"\n",
        "#ClassName=\"wikitable sortable jquery-tablesorter\"\n",
        "UrlWeb= \"https://finance.yahoo.com/quote/MSFT/history?period1=511056000&period2=1648166400&interval=1wk&filter=history&frequency=1wk&includeAdjustedClose=true\"\n",
        "ClassName=\"W(100%) M(0)\""
      ],
      "metadata": {
        "id": "1fXwtSmb4l78"
      },
      "execution_count": 41,
      "outputs": []
    },
    {
      "cell_type": "code",
      "source": [
        "import requests                           # libreria para manejar pedidos internet\n",
        "from bs4 import BeautifulSoup             # libreria para parsear documentos HTML"
      ],
      "metadata": {
        "id": "E1nUHGDKOBNG"
      },
      "execution_count": 42,
      "outputs": []
    },
    {
      "cell_type": "code",
      "source": [
        "!pip install kora -q\n",
        "!apt install chromium-chromedriver\n",
        "!pip install selenium"
      ],
      "metadata": {
        "id": "ukBaLrIu5YA8",
        "outputId": "08589d85-ce90-440f-fbfe-6c28f8dcb300",
        "colab": {
          "base_uri": "https://localhost:8080/"
        }
      },
      "execution_count": 43,
      "outputs": [
        {
          "output_type": "stream",
          "name": "stdout",
          "text": [
            "Reading package lists... Done\n",
            "Building dependency tree       \n",
            "Reading state information... Done\n",
            "chromium-chromedriver is already the newest version (99.0.4844.51-0ubuntu0.18.04.1).\n",
            "0 upgraded, 0 newly installed, 0 to remove and 40 not upgraded.\n",
            "Requirement already satisfied: selenium in /usr/local/lib/python3.7/dist-packages (4.1.3)\n",
            "Requirement already satisfied: trio-websocket~=0.9 in /usr/local/lib/python3.7/dist-packages (from selenium) (0.9.2)\n",
            "Requirement already satisfied: trio~=0.17 in /usr/local/lib/python3.7/dist-packages (from selenium) (0.20.0)\n",
            "Requirement already satisfied: urllib3[secure,socks]~=1.26 in /usr/local/lib/python3.7/dist-packages (from selenium) (1.26.9)\n",
            "Requirement already satisfied: idna in /usr/local/lib/python3.7/dist-packages (from trio~=0.17->selenium) (2.10)\n",
            "Requirement already satisfied: sniffio in /usr/local/lib/python3.7/dist-packages (from trio~=0.17->selenium) (1.2.0)\n",
            "Requirement already satisfied: attrs>=19.2.0 in /usr/local/lib/python3.7/dist-packages (from trio~=0.17->selenium) (21.4.0)\n",
            "Requirement already satisfied: sortedcontainers in /usr/local/lib/python3.7/dist-packages (from trio~=0.17->selenium) (2.4.0)\n",
            "Requirement already satisfied: outcome in /usr/local/lib/python3.7/dist-packages (from trio~=0.17->selenium) (1.1.0)\n",
            "Requirement already satisfied: async-generator>=1.9 in /usr/local/lib/python3.7/dist-packages (from trio~=0.17->selenium) (1.10)\n",
            "Requirement already satisfied: wsproto>=0.14 in /usr/local/lib/python3.7/dist-packages (from trio-websocket~=0.9->selenium) (1.1.0)\n",
            "Requirement already satisfied: PySocks!=1.5.7,<2.0,>=1.5.6 in /usr/local/lib/python3.7/dist-packages (from urllib3[secure,socks]~=1.26->selenium) (1.7.1)\n",
            "Requirement already satisfied: certifi in /usr/local/lib/python3.7/dist-packages (from urllib3[secure,socks]~=1.26->selenium) (2021.10.8)\n",
            "Requirement already satisfied: pyOpenSSL>=0.14 in /usr/local/lib/python3.7/dist-packages (from urllib3[secure,socks]~=1.26->selenium) (22.0.0)\n",
            "Requirement already satisfied: cryptography>=1.3.4 in /usr/local/lib/python3.7/dist-packages (from urllib3[secure,socks]~=1.26->selenium) (36.0.2)\n",
            "Requirement already satisfied: cffi>=1.12 in /usr/local/lib/python3.7/dist-packages (from cryptography>=1.3.4->urllib3[secure,socks]~=1.26->selenium) (1.15.0)\n",
            "Requirement already satisfied: pycparser in /usr/local/lib/python3.7/dist-packages (from cffi>=1.12->cryptography>=1.3.4->urllib3[secure,socks]~=1.26->selenium) (2.21)\n",
            "Requirement already satisfied: h11<1,>=0.9.0 in /usr/local/lib/python3.7/dist-packages (from wsproto>=0.14->trio-websocket~=0.9->selenium) (0.13.0)\n",
            "Requirement already satisfied: typing-extensions in /usr/local/lib/python3.7/dist-packages (from h11<1,>=0.9.0->wsproto>=0.14->trio-websocket~=0.9->selenium) (3.10.0.2)\n"
          ]
        }
      ]
    },
    {
      "cell_type": "code",
      "source": [
        "from kora.selenium import wd\n",
        "wd.get(UrlWeb)\n",
        "soup = BeautifulSoup(wd.page_source, 'html.parser')"
      ],
      "metadata": {
        "id": "UoonjJEZ5neU"
      },
      "execution_count": 44,
      "outputs": []
    },
    {
      "cell_type": "code",
      "source": [
        "tabla= soup.find_all(class_=ClassName)\n",
        "df_list_table=pd.read_html(str(tabla))                                      # LEEMOS el THEAD y TBODY y lo guardamos en una lista\n",
        "df=pd.DataFrame(df_list_table[0])"
      ],
      "metadata": {
        "id": "6Mjetwe3OiKM"
      },
      "execution_count": 45,
      "outputs": []
    },
    {
      "cell_type": "code",
      "source": [
        "#df.head(10)                                                       #LAS PRIMERAS FILAS\n",
        "df.tail(10)"
      ],
      "metadata": {
        "id": "95odb4GjOlJL",
        "outputId": "dabc5adb-b040-409b-e969-98a47ed08ace",
        "colab": {
          "base_uri": "https://localhost:8080/",
          "height": 459
        }
      },
      "execution_count": 46,
      "outputs": [
        {
          "output_type": "execute_result",
          "data": {
            "text/plain": [
              "                                                  Date  \\\n",
              "91                                        Aug 10, 2020   \n",
              "92                                        Aug 03, 2020   \n",
              "93                                        Jul 27, 2020   \n",
              "94                                        Jul 20, 2020   \n",
              "95                                        Jul 13, 2020   \n",
              "96                                        Jul 06, 2020   \n",
              "97                                        Jun 29, 2020   \n",
              "98                                        Jun 22, 2020   \n",
              "99                                        Jun 15, 2020   \n",
              "100  *Close price adjusted for splits.**Adjusted cl...   \n",
              "\n",
              "                                                  Open  \\\n",
              "91                                              211.67   \n",
              "92                                              211.52   \n",
              "93                                              201.47   \n",
              "94                                              205.00   \n",
              "95                                              214.48   \n",
              "96                                              208.83   \n",
              "97                                              195.78   \n",
              "98                                              195.79   \n",
              "99                                              184.58   \n",
              "100  *Close price adjusted for splits.**Adjusted cl...   \n",
              "\n",
              "                                                  High  \\\n",
              "91                                              211.88   \n",
              "92                                              217.64   \n",
              "93                                              205.10   \n",
              "94                                              213.94   \n",
              "95                                              215.80   \n",
              "96                                              216.38   \n",
              "97                                              208.02   \n",
              "98                                              203.95   \n",
              "99                                              199.29   \n",
              "100  *Close price adjusted for splits.**Adjusted cl...   \n",
              "\n",
              "                                                   Low  \\\n",
              "91                                              203.14   \n",
              "92                                              210.31   \n",
              "93                                              199.01   \n",
              "94                                              197.51   \n",
              "95                                              201.39   \n",
              "96                                              207.99   \n",
              "97                                              193.55   \n",
              "98                                              194.88   \n",
              "99                                              184.01   \n",
              "100  *Close price adjusted for splits.**Adjusted cl...   \n",
              "\n",
              "                                                Close*  \\\n",
              "91                                              208.90   \n",
              "92                                              212.48   \n",
              "93                                              205.01   \n",
              "94                                              201.30   \n",
              "95                                              202.88   \n",
              "96                                              213.67   \n",
              "97                                              206.26   \n",
              "98                                              196.33   \n",
              "99                                              195.15   \n",
              "100  *Close price adjusted for splits.**Adjusted cl...   \n",
              "\n",
              "                                           Adj Close**  \\\n",
              "91                                              205.70   \n",
              "92                                              209.22   \n",
              "93                                              201.87   \n",
              "94                                              198.22   \n",
              "95                                              199.77   \n",
              "96                                              210.40   \n",
              "97                                              203.10   \n",
              "98                                              193.32   \n",
              "99                                              192.16   \n",
              "100  *Close price adjusted for splits.**Adjusted cl...   \n",
              "\n",
              "                                                Volume  \n",
              "91                                           141723900  \n",
              "92                                           217546700  \n",
              "93                                           149168500  \n",
              "94                                           231764900  \n",
              "95                                           169482800  \n",
              "96                                           158397600  \n",
              "97                                           122388900  \n",
              "98                                           182956600  \n",
              "99                                           168517400  \n",
              "100  *Close price adjusted for splits.**Adjusted cl...  "
            ],
            "text/html": [
              "\n",
              "  <div id=\"df-e93cf6cd-c8ae-45ad-ae63-789844124a62\">\n",
              "    <div class=\"colab-df-container\">\n",
              "      <div>\n",
              "<style scoped>\n",
              "    .dataframe tbody tr th:only-of-type {\n",
              "        vertical-align: middle;\n",
              "    }\n",
              "\n",
              "    .dataframe tbody tr th {\n",
              "        vertical-align: top;\n",
              "    }\n",
              "\n",
              "    .dataframe thead th {\n",
              "        text-align: right;\n",
              "    }\n",
              "</style>\n",
              "<table border=\"1\" class=\"dataframe\">\n",
              "  <thead>\n",
              "    <tr style=\"text-align: right;\">\n",
              "      <th></th>\n",
              "      <th>Date</th>\n",
              "      <th>Open</th>\n",
              "      <th>High</th>\n",
              "      <th>Low</th>\n",
              "      <th>Close*</th>\n",
              "      <th>Adj Close**</th>\n",
              "      <th>Volume</th>\n",
              "    </tr>\n",
              "  </thead>\n",
              "  <tbody>\n",
              "    <tr>\n",
              "      <th>91</th>\n",
              "      <td>Aug 10, 2020</td>\n",
              "      <td>211.67</td>\n",
              "      <td>211.88</td>\n",
              "      <td>203.14</td>\n",
              "      <td>208.90</td>\n",
              "      <td>205.70</td>\n",
              "      <td>141723900</td>\n",
              "    </tr>\n",
              "    <tr>\n",
              "      <th>92</th>\n",
              "      <td>Aug 03, 2020</td>\n",
              "      <td>211.52</td>\n",
              "      <td>217.64</td>\n",
              "      <td>210.31</td>\n",
              "      <td>212.48</td>\n",
              "      <td>209.22</td>\n",
              "      <td>217546700</td>\n",
              "    </tr>\n",
              "    <tr>\n",
              "      <th>93</th>\n",
              "      <td>Jul 27, 2020</td>\n",
              "      <td>201.47</td>\n",
              "      <td>205.10</td>\n",
              "      <td>199.01</td>\n",
              "      <td>205.01</td>\n",
              "      <td>201.87</td>\n",
              "      <td>149168500</td>\n",
              "    </tr>\n",
              "    <tr>\n",
              "      <th>94</th>\n",
              "      <td>Jul 20, 2020</td>\n",
              "      <td>205.00</td>\n",
              "      <td>213.94</td>\n",
              "      <td>197.51</td>\n",
              "      <td>201.30</td>\n",
              "      <td>198.22</td>\n",
              "      <td>231764900</td>\n",
              "    </tr>\n",
              "    <tr>\n",
              "      <th>95</th>\n",
              "      <td>Jul 13, 2020</td>\n",
              "      <td>214.48</td>\n",
              "      <td>215.80</td>\n",
              "      <td>201.39</td>\n",
              "      <td>202.88</td>\n",
              "      <td>199.77</td>\n",
              "      <td>169482800</td>\n",
              "    </tr>\n",
              "    <tr>\n",
              "      <th>96</th>\n",
              "      <td>Jul 06, 2020</td>\n",
              "      <td>208.83</td>\n",
              "      <td>216.38</td>\n",
              "      <td>207.99</td>\n",
              "      <td>213.67</td>\n",
              "      <td>210.40</td>\n",
              "      <td>158397600</td>\n",
              "    </tr>\n",
              "    <tr>\n",
              "      <th>97</th>\n",
              "      <td>Jun 29, 2020</td>\n",
              "      <td>195.78</td>\n",
              "      <td>208.02</td>\n",
              "      <td>193.55</td>\n",
              "      <td>206.26</td>\n",
              "      <td>203.10</td>\n",
              "      <td>122388900</td>\n",
              "    </tr>\n",
              "    <tr>\n",
              "      <th>98</th>\n",
              "      <td>Jun 22, 2020</td>\n",
              "      <td>195.79</td>\n",
              "      <td>203.95</td>\n",
              "      <td>194.88</td>\n",
              "      <td>196.33</td>\n",
              "      <td>193.32</td>\n",
              "      <td>182956600</td>\n",
              "    </tr>\n",
              "    <tr>\n",
              "      <th>99</th>\n",
              "      <td>Jun 15, 2020</td>\n",
              "      <td>184.58</td>\n",
              "      <td>199.29</td>\n",
              "      <td>184.01</td>\n",
              "      <td>195.15</td>\n",
              "      <td>192.16</td>\n",
              "      <td>168517400</td>\n",
              "    </tr>\n",
              "    <tr>\n",
              "      <th>100</th>\n",
              "      <td>*Close price adjusted for splits.**Adjusted cl...</td>\n",
              "      <td>*Close price adjusted for splits.**Adjusted cl...</td>\n",
              "      <td>*Close price adjusted for splits.**Adjusted cl...</td>\n",
              "      <td>*Close price adjusted for splits.**Adjusted cl...</td>\n",
              "      <td>*Close price adjusted for splits.**Adjusted cl...</td>\n",
              "      <td>*Close price adjusted for splits.**Adjusted cl...</td>\n",
              "      <td>*Close price adjusted for splits.**Adjusted cl...</td>\n",
              "    </tr>\n",
              "  </tbody>\n",
              "</table>\n",
              "</div>\n",
              "      <button class=\"colab-df-convert\" onclick=\"convertToInteractive('df-e93cf6cd-c8ae-45ad-ae63-789844124a62')\"\n",
              "              title=\"Convert this dataframe to an interactive table.\"\n",
              "              style=\"display:none;\">\n",
              "        \n",
              "  <svg xmlns=\"http://www.w3.org/2000/svg\" height=\"24px\"viewBox=\"0 0 24 24\"\n",
              "       width=\"24px\">\n",
              "    <path d=\"M0 0h24v24H0V0z\" fill=\"none\"/>\n",
              "    <path d=\"M18.56 5.44l.94 2.06.94-2.06 2.06-.94-2.06-.94-.94-2.06-.94 2.06-2.06.94zm-11 1L8.5 8.5l.94-2.06 2.06-.94-2.06-.94L8.5 2.5l-.94 2.06-2.06.94zm10 10l.94 2.06.94-2.06 2.06-.94-2.06-.94-.94-2.06-.94 2.06-2.06.94z\"/><path d=\"M17.41 7.96l-1.37-1.37c-.4-.4-.92-.59-1.43-.59-.52 0-1.04.2-1.43.59L10.3 9.45l-7.72 7.72c-.78.78-.78 2.05 0 2.83L4 21.41c.39.39.9.59 1.41.59.51 0 1.02-.2 1.41-.59l7.78-7.78 2.81-2.81c.8-.78.8-2.07 0-2.86zM5.41 20L4 18.59l7.72-7.72 1.47 1.35L5.41 20z\"/>\n",
              "  </svg>\n",
              "      </button>\n",
              "      \n",
              "  <style>\n",
              "    .colab-df-container {\n",
              "      display:flex;\n",
              "      flex-wrap:wrap;\n",
              "      gap: 12px;\n",
              "    }\n",
              "\n",
              "    .colab-df-convert {\n",
              "      background-color: #E8F0FE;\n",
              "      border: none;\n",
              "      border-radius: 50%;\n",
              "      cursor: pointer;\n",
              "      display: none;\n",
              "      fill: #1967D2;\n",
              "      height: 32px;\n",
              "      padding: 0 0 0 0;\n",
              "      width: 32px;\n",
              "    }\n",
              "\n",
              "    .colab-df-convert:hover {\n",
              "      background-color: #E2EBFA;\n",
              "      box-shadow: 0px 1px 2px rgba(60, 64, 67, 0.3), 0px 1px 3px 1px rgba(60, 64, 67, 0.15);\n",
              "      fill: #174EA6;\n",
              "    }\n",
              "\n",
              "    [theme=dark] .colab-df-convert {\n",
              "      background-color: #3B4455;\n",
              "      fill: #D2E3FC;\n",
              "    }\n",
              "\n",
              "    [theme=dark] .colab-df-convert:hover {\n",
              "      background-color: #434B5C;\n",
              "      box-shadow: 0px 1px 3px 1px rgba(0, 0, 0, 0.15);\n",
              "      filter: drop-shadow(0px 1px 2px rgba(0, 0, 0, 0.3));\n",
              "      fill: #FFFFFF;\n",
              "    }\n",
              "  </style>\n",
              "\n",
              "      <script>\n",
              "        const buttonEl =\n",
              "          document.querySelector('#df-e93cf6cd-c8ae-45ad-ae63-789844124a62 button.colab-df-convert');\n",
              "        buttonEl.style.display =\n",
              "          google.colab.kernel.accessAllowed ? 'block' : 'none';\n",
              "\n",
              "        async function convertToInteractive(key) {\n",
              "          const element = document.querySelector('#df-e93cf6cd-c8ae-45ad-ae63-789844124a62');\n",
              "          const dataTable =\n",
              "            await google.colab.kernel.invokeFunction('convertToInteractive',\n",
              "                                                     [key], {});\n",
              "          if (!dataTable) return;\n",
              "\n",
              "          const docLinkHtml = 'Like what you see? Visit the ' +\n",
              "            '<a target=\"_blank\" href=https://colab.research.google.com/notebooks/data_table.ipynb>data table notebook</a>'\n",
              "            + ' to learn more about interactive tables.';\n",
              "          element.innerHTML = '';\n",
              "          dataTable['output_type'] = 'display_data';\n",
              "          await google.colab.output.renderOutput(dataTable, element);\n",
              "          const docLink = document.createElement('div');\n",
              "          docLink.innerHTML = docLinkHtml;\n",
              "          element.appendChild(docLink);\n",
              "        }\n",
              "      </script>\n",
              "    </div>\n",
              "  </div>\n",
              "  "
            ]
          },
          "metadata": {},
          "execution_count": 46
        }
      ]
    },
    {
      "cell_type": "code",
      "source": [
        "#tenemosque borrar la ultima fila\n",
        "df = df[:-1]"
      ],
      "metadata": {
        "id": "zPb86DZYOp7c"
      },
      "execution_count": 47,
      "outputs": []
    },
    {
      "cell_type": "markdown",
      "source": [
        "#Conociendo los datos descargados"
      ],
      "metadata": {
        "id": "7qGXAetlOsMG"
      }
    },
    {
      "cell_type": "code",
      "source": [
        "print(df.info())\n",
        "print(\"____________describe____________\\n\",df.describe())\n",
        "print(\"____________nulos?____________\\n\",df.isnull().sum())\n",
        "#print(\"Rows, Cols->\",df.shape)"
      ],
      "metadata": {
        "id": "Xh0Tln8OOtx0",
        "outputId": "26de2f5b-c855-4b8d-b8c7-2a4b16c50a9b",
        "colab": {
          "base_uri": "https://localhost:8080/"
        }
      },
      "execution_count": 48,
      "outputs": [
        {
          "output_type": "stream",
          "name": "stdout",
          "text": [
            "<class 'pandas.core.frame.DataFrame'>\n",
            "RangeIndex: 100 entries, 0 to 99\n",
            "Data columns (total 7 columns):\n",
            " #   Column       Non-Null Count  Dtype \n",
            "---  ------       --------------  ----- \n",
            " 0   Date         100 non-null    object\n",
            " 1   Open         100 non-null    object\n",
            " 2   High         100 non-null    object\n",
            " 3   Low          100 non-null    object\n",
            " 4   Close*       100 non-null    object\n",
            " 5   Adj Close**  100 non-null    object\n",
            " 6   Volume       100 non-null    object\n",
            "dtypes: object(7)\n",
            "memory usage: 5.6+ KB\n",
            "None\n",
            "____________describe____________\n",
            "                 Date           Open           High            Low  \\\n",
            "count            100            100            100            100   \n",
            "unique           100             96             96             96   \n",
            "top     Mar 21, 2022  0.56 Dividend  0.56 Dividend  0.56 Dividend   \n",
            "freq               1              4              4              4   \n",
            "\n",
            "               Close*    Adj Close**         Volume  \n",
            "count             100            100            100  \n",
            "unique             96             96             96  \n",
            "top     0.56 Dividend  0.56 Dividend  0.56 Dividend  \n",
            "freq                4              4              4  \n",
            "____________nulos?____________\n",
            " Date           0\n",
            "Open           0\n",
            "High           0\n",
            "Low            0\n",
            "Close*         0\n",
            "Adj Close**    0\n",
            "Volume         0\n",
            "dtype: int64\n"
          ]
        }
      ]
    },
    {
      "cell_type": "markdown",
      "source": [
        "#Normalización de los datos."
      ],
      "metadata": {
        "id": "GjZKV4-eOyo9"
      }
    },
    {
      "cell_type": "markdown",
      "source": [
        "##Convertimos los campos object a datetime o numeric (int/float)"
      ],
      "metadata": {
        "id": "xPaE4mL-O1X0"
      }
    },
    {
      "cell_type": "code",
      "source": [
        "df['Date']= df['Date'].str.replace(' ene ','/01/')\n",
        "df['Date']= df['Date'].str.replace(' feb ','/02/')\n",
        "df['Date']= df['Date'].str.replace(' mar ','/03/')\n",
        "df['Date']= df['Date'].str.replace(' abr ','/04/')\n",
        "df['Date']= df['Date'].str.replace(' may ','/05/')\n",
        "df['Date']= df['Date'].str.replace(' jun ','/06/')\n",
        "df['Date']= df['Date'].str.replace(' jul ','/07/')\n",
        "df['Date']= df['Date'].str.replace(' ago ','/08/')\n",
        "df['Date']= df['Date'].str.replace(' sep ','/09/')\n",
        "df['Date']= df['Date'].str.replace(' oct ','/10/')\n",
        "df['Date']= df['Date'].str.replace(' nov ','/11/')\n",
        "df['Date']= df['Date'].str.replace(' dic ','/12/')"
      ],
      "metadata": {
        "id": "6cUG1TFAOz4E"
      },
      "execution_count": 49,
      "outputs": []
    },
    {
      "cell_type": "code",
      "source": [
        "df['Date']=pd.to_datetime(df['Date'], dayfirst = True)        # Convertimos el campo FECHA en tipo DATETIME\n",
        "df['Open'] = pd.to_numeric(df['Open'])                        #  convertimos el campo a numerico \n",
        "df['High'] = pd.to_numeric(df['High'])\n",
        "df['Low'] = pd.to_numeric(df['Low'])\n",
        "df['Close*'] = pd.to_numeric(df['Close*'])\n",
        "df['Adj Close**'] = pd.to_numeric(df['Adj Close**'])\n",
        "df['Volume'] = pd.to_numeric(df['Volume'])"
      ],
      "metadata": {
        "id": "UlnJpAaHO-i2"
      },
      "execution_count": null,
      "outputs": []
    },
    {
      "cell_type": "markdown",
      "source": [
        "#Eliminando columnas que no necesitaremos"
      ],
      "metadata": {
        "id": "XBzobxEIPVFG"
      }
    },
    {
      "cell_type": "code",
      "source": [
        "#borrar nulos o no?\n",
        "df = df.dropna()\n",
        "df = df.reset_index(drop=True)"
      ],
      "metadata": {
        "id": "cY0Z-vssPWT0"
      },
      "execution_count": 51,
      "outputs": []
    },
    {
      "cell_type": "code",
      "source": [
        "# Eliminamos columna de fecha que no usaremos en el algoritmo.\n",
        "dates = df['Date'] # Guardamos la columna Date.\n",
        "df = df.drop('Date', 1) # Borramos la columna del dataframe."
      ],
      "metadata": {
        "id": "fMjYZhZ-PZNV",
        "colab": {
          "base_uri": "https://localhost:8080/"
        },
        "outputId": "ae05e2c6-95a8-41a2-f4a6-03e88a1e7971"
      },
      "execution_count": 52,
      "outputs": [
        {
          "output_type": "stream",
          "name": "stderr",
          "text": [
            "/usr/local/lib/python3.7/dist-packages/ipykernel_launcher.py:3: FutureWarning: In a future version of pandas all arguments of DataFrame.drop except for the argument 'labels' will be keyword-only\n",
            "  This is separate from the ipykernel package so we can avoid doing imports until\n"
          ]
        }
      ]
    },
    {
      "cell_type": "markdown",
      "source": [
        "Normaliza todos los datos entre [0, 1]."
      ],
      "metadata": {
        "id": "hqSQ4wkoPd6d"
      }
    },
    {
      "cell_type": "code",
      "source": [
        "#%% Se normalizan los datos con MinMax()\n",
        "min_max_scaler = preprocessing.MinMaxScaler() \n",
        "df_escalado = min_max_scaler.fit_transform(df)\n",
        "df_escalado = pd.DataFrame(df_escalado) # Hay que convertir a DF el resultado.\n",
        "df_escalado = df_escalado.rename(columns = {0:'Abrir',1:'Alto',2:'Bajo',3:'Cierre*',4: 'Cierre ajustado**', 5: 'Volumen'})"
      ],
      "metadata": {
        "id": "E6dMB1t3PcFM"
      },
      "execution_count": null,
      "outputs": []
    },
    {
      "cell_type": "code",
      "source": [
        "df_escalado.head()\n",
        "#df_escalado.isnull().sum()"
      ],
      "metadata": {
        "id": "4WN1LUKFPiUM"
      },
      "execution_count": null,
      "outputs": []
    },
    {
      "cell_type": "markdown",
      "source": [
        "#Representación gráfica de los datos."
      ],
      "metadata": {
        "id": "Rp6ApoHGPkiV"
      }
    },
    {
      "cell_type": "code",
      "source": [
        "#%% Representación gráfica de los datos.\n",
        "x = df_escalado['Close*'].values\n",
        "y = df_escalado['Volume'].values\n",
        "plt.xlabel('Cierre de precios')\n",
        "plt.ylabel('Volumen')\n",
        "plt.title('Microsoft CIERRE vs. VOLUMEN')\n",
        "plt.plot(x,y,'o',markersize=3)"
      ],
      "metadata": {
        "id": "Rhh2yDC3PltU"
      },
      "execution_count": null,
      "outputs": []
    },
    {
      "cell_type": "markdown",
      "source": [
        "#Aplicación de k-means."
      ],
      "metadata": {
        "id": "Aim6VjP6Ppdo"
      }
    },
    {
      "cell_type": "markdown",
      "source": [
        "# Realizar una gráfica elbow o de codo"
      ],
      "metadata": {
        "id": "HsXwK59kPr5v"
      }
    },
    {
      "cell_type": "code",
      "source": [
        "#%% Curva elbow para determinar valor óptimo de k.\n",
        "nc = range(1, 30) # El número de iteraciones que queremos hacer.\n",
        "kmeans = [KMeans(n_clusters=i) for i in nc]\n",
        "score = [kmeans[i].fit(df_escalado).score(df_escalado) for i in range(len(kmeans))]\n",
        "score\n",
        "plt.xlabel('Número de clústeres (k)')\n",
        "plt.ylabel('Suma de los errores cuadráticos')\n",
        "plt.plot(nc,score)"
      ],
      "metadata": {
        "id": "nxyBE5d2PuMu"
      },
      "execution_count": null,
      "outputs": []
    },
    {
      "cell_type": "markdown",
      "source": [
        "#Aplicar el algoritmo de k-mean"
      ],
      "metadata": {
        "id": "2BJ0QlvqPy1W"
      }
    },
    {
      "cell_type": "code",
      "source": [
        "#%% Aplicación de k-means con k = 5.\n",
        "kmeans = KMeans(n_clusters=5).fit(df_escalado)\n",
        "centroids = kmeans.cluster_centers_\n",
        "print(centroids)   #coordenadas de los centroides"
      ],
      "metadata": {
        "id": "5tSQMg3DP02-"
      },
      "execution_count": null,
      "outputs": []
    },
    {
      "cell_type": "markdown",
      "source": [
        "#Etiquetado de datos."
      ],
      "metadata": {
        "id": "qUWaJ2MlP1pv"
      }
    },
    {
      "cell_type": "code",
      "source": [
        "#%% Etiquetamos nuestro dataframe.\n",
        "labels = kmeans.predict(df_escalado)   #generamos las etiquetas de cada clouster\n",
        "df['label'] = labels                   #añadimos la columna “label” a nuestro dataframe original\n",
        "\n",
        "df.insert(0, 'Date', dates)           #%% Añadimos la columna de fecha"
      ],
      "metadata": {
        "id": "JltgGTBAP4WK"
      },
      "execution_count": null,
      "outputs": []
    },
    {
      "cell_type": "code",
      "source": [
        "df.head(10)"
      ],
      "metadata": {
        "id": "zhdxjjSCP5GW"
      },
      "execution_count": null,
      "outputs": []
    },
    {
      "cell_type": "markdown",
      "source": [
        "#Representación gráfica de los clústeres k-means"
      ],
      "metadata": {
        "id": "IHcPhbibP7Sk"
      }
    },
    {
      "cell_type": "code",
      "source": [
        "#%% Plot k-means clustering.\n",
        "colores=['red','green','blue','yellow','fuchsia']\n",
        "asignar=[]\n",
        "for row in labels:\n",
        "     asignar.append(colores[row])\n",
        "plt.scatter(x, y, c=asignar, s=4)\n",
        "plt.scatter(centroids[:, 0], centroids[:, 1], marker='*', c='black', s=20) # Marco centroides.\n",
        "plt.xlabel('Precio de cierre')\n",
        "plt.ylabel('Volumen')\n",
        "plt.title('Tesla stocks k-means clustering')\n",
        "plt.show()"
      ],
      "metadata": {
        "id": "Rk82LD47P83S"
      },
      "execution_count": null,
      "outputs": []
    }
  ],
  "metadata": {
    "colab": {
      "collapsed_sections": [],
      "name": "Copia de Te damos la bienvenida a Colaboratory",
      "toc_visible": true,
      "provenance": []
    },
    "kernelspec": {
      "display_name": "Python 3",
      "name": "python3"
    }
  },
  "nbformat": 4,
  "nbformat_minor": 0
}